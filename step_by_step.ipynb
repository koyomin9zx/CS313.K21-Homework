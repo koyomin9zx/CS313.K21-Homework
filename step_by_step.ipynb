{
  "nbformat": 4,
  "nbformat_minor": 0,
  "metadata": {
    "colab": {
      "name": "step_by_step.ipynb",
      "provenance": [],
      "authorship_tag": "ABX9TyNEsR+q17dTMvUotUIUvOC6",
      "include_colab_link": true
    },
    "kernelspec": {
      "name": "python3",
      "display_name": "Python 3"
    }
  },
  "cells": [
    {
      "cell_type": "markdown",
      "metadata": {
        "id": "view-in-github",
        "colab_type": "text"
      },
      "source": [
        "<a href=\"https://colab.research.google.com/github/koyomin9zx/CS313.K21-Homework/blob/master/step_by_step.ipynb\" target=\"_parent\"><img src=\"https://colab.research.google.com/assets/colab-badge.svg\" alt=\"Open In Colab\"/></a>"
      ]
    },
    {
      "cell_type": "code",
      "metadata": {
        "id": "f6m-pTr5dre-",
        "colab_type": "code",
        "colab": {}
      },
      "source": [
        "#download & extract data\n",
        "!wget http://archive.ics.uci.edu/ml/machine-learning-databases/00222/bank.zip\n",
        "!unzip bank.zip"
      ],
      "execution_count": 0,
      "outputs": []
    },
    {
      "cell_type": "code",
      "metadata": {
        "id": "F74K8E6ZeZdZ",
        "colab_type": "code",
        "colab": {}
      },
      "source": [
        "#import lib\n",
        "import pandas as pd\n",
        "from collections import defaultdict"
      ],
      "execution_count": 0,
      "outputs": []
    },
    {
      "cell_type": "code",
      "metadata": {
        "id": "CWc0gBNRfw-X",
        "colab_type": "code",
        "colab": {}
      },
      "source": [
        "#filter non numeric data\n",
        "def filter_data(data_frame):\n",
        "  numeric_data=[key for key, value in data_frame.iteritems() if data_frame[key].dtypes=='int64']\n",
        "  return numeric_data"
      ],
      "execution_count": 0,
      "outputs": []
    },
    {
      "cell_type": "code",
      "metadata": {
        "id": "2HGKeqMioBCs",
        "colab_type": "code",
        "colab": {}
      },
      "source": [
        "def binning_data(data_frame,name_prop,num_bin,binning_type):\n",
        "  max_prop=data_frame[name_prop].max()\n",
        "  min_prop=data_frame[name_prop].min()\n",
        "  distance=round((max_prop-min_prop)/num_bin)\n",
        "  mark=[min_prop]\n",
        "  scope=defaultdict(list)\n",
        "\n",
        "  #Equal-width-binning\n",
        "  if(binning_type==0):\n",
        "    while True:\n",
        "      if(mark[-1]+distance < max_prop and len(mark)<num_bin):\n",
        "        mark.append(mark[-1]+distance)\n",
        "      else:\n",
        "        break\n",
        "    mark.append(max_prop)\n",
        "\n",
        "    for j in range(1,len(mark)):\n",
        "      key='['+str(mark[j-1])+','+str(mark[j])+')'\n",
        "      scope[key].append(0)\n",
        "      scope[key].append(name_prop)\n",
        "\n",
        "    for i in data_frame[name_prop]:\n",
        "      for j in range(1,len(mark)):\n",
        "        if(i<mark[j]):\n",
        "          key=list(scope)[j-1]\n",
        "          scope[key][0]+=1\n",
        "          data_frame[name_prop]=data_frame[name_prop].replace(i,key)\n",
        "          break\n",
        "        elif (i==max_prop):\n",
        "          key=list(scope)[-1]\n",
        "          scope[key][0]+=1\n",
        "          data_frame[name_prop]=data_frame[name_prop].replace(i,key)\n",
        "          break\n",
        "        else:\n",
        "          continue\n",
        "\n",
        "  #Equal-depth –binning\n",
        "  if(binning_type==1):\n",
        "    values_prop=data_frame[name_prop].values\n",
        "    values_prop.sort()\n",
        "    distance=round(len(values_prop)/num_bin)\n",
        "    \n",
        "    temp=distance-1\n",
        "    for i in range(0,num_bin-1):\n",
        "      mark.append(values_prop[temp])\n",
        "      temp+=distance\n",
        "  \n",
        "    mark.append(max_prop)\n",
        "\n",
        "    for j in range(1,len(mark)):\n",
        "      if(j==1):\n",
        "        key='['+str(mark[j-1])+','+str(mark[j])+']'\n",
        "      else:\n",
        "        key='('+str(mark[j-1])+','+str(mark[j])+']'\n",
        "      scope[key].append(0)\n",
        "      scope[key].append(name_prop)\n",
        "    \n",
        "    for i in data_frame[name_prop]:\n",
        "      for j in range(1,len(mark)):\n",
        "        key=list(scope)[j-1]\n",
        "        if(i<=mark[j]):\n",
        "          scope[key][0]+=1\n",
        "          data_frame[name_prop]=data_frame[name_prop].replace(i,key)\n",
        "          break\n",
        "        else:\n",
        "          continue\n",
        "\n",
        "  log_file=\"Numeric: \"+name_prop+\" \"\n",
        "  for key, count in scope.items():\n",
        "    log_file+=key+\":\"+str(count[0])+\" \"\n",
        "\n",
        "\n",
        "  return data_frame,log_file"
      ],
      "execution_count": 0,
      "outputs": []
    },
    {
      "cell_type": "code",
      "metadata": {
        "id": "ZhTnI0nV-hv3",
        "colab_type": "code",
        "colab": {}
      },
      "source": [
        "def module_iii(input_data,output_data,log_file):\n",
        "  #read data\n",
        "  bank_df = pd.read_csv(input_data, encoding='utf-8', sep=',')\n",
        "  data_frame=bank_df.copy()\n",
        "  numeric_data=filter_data(bank_df)\n",
        "  print('==========Danh sách các thuộc tính numeric có trong tập data===========\\n')\n",
        "  for i in range (0,len(numeric_data)):\n",
        "    print(str(i)+\"- \"+numeric_data[i])\n",
        "\n",
        "  try:\n",
        "    choice = list(map(int,input(\"\\nNhập số thứ tự thuộc tính cần chia giỏ : \").strip().split()))[:len(numeric_data)]\n",
        "    s= int(input(\"\\nNhập số giỏ cần chia (>2): \"))\n",
        "    t= int(input(\"\\nNhập phương pháp chia giỏ: \\n(0) là chia theo chiều rộng, \\n(1) là chia theo chiều sâu\\n\"))\n",
        "  \n",
        "  except:\n",
        "    print(\"nhập không hợp lệ !!!\")   \n",
        "  log_file1=\"\"\n",
        "  for i in choice:\n",
        "    data_frame,log_f=binning_data(data_frame,numeric_data[i],s,t)\n",
        "    log_file1+=log_f+\"\\n\"\n",
        "\n",
        "  data_frame.to_csv(output_data,sep=',',index=None)\n",
        "  with open(log_file, \"w\", encoding=\"utf-8\") as text_file:\n",
        "    text_file.write(log_file1)\n"
      ],
      "execution_count": 0,
      "outputs": []
    },
    {
      "cell_type": "code",
      "metadata": {
        "id": "jmEqFm7GBEx5",
        "colab_type": "code",
        "outputId": "9c5b12ab-d2d7-43b0-c420-52ba593218da",
        "colab": {
          "base_uri": "https://localhost:8080/",
          "height": 319
        }
      },
      "source": [
        "if __name__ == '__main__': \n",
        "  module_iii(\"newbank.csv\",\"ouput_data.csv\",\"log.txt\")\n",
        " "
      ],
      "execution_count": 0,
      "outputs": [
        {
          "output_type": "stream",
          "text": [
            "==========Danh sách các thuộc tính numeric có trong tập data===========\n",
            "\n",
            "0- age\n",
            "1- balance\n",
            "2- day\n",
            "3- duration\n",
            "4- campaign\n",
            "5- pdays\n",
            "6- previous\n",
            "\n",
            "Nhập số thứ tự thuộc tính cần chia giỏ : 0 1 2 3 4 5 6\n",
            "\n",
            "Nhập số giỏ cần chia (>2): 6\n",
            "\n",
            "Nhập phương pháp chia giỏ: \n",
            "(0) là chia theo chiều rộng, \n",
            "(1) là chia theo chiều sâu\n",
            "0\n"
          ],
          "name": "stdout"
        }
      ]
    },
    {
      "cell_type": "code",
      "metadata": {
        "id": "TzslxcGdNxEl",
        "colab_type": "code",
        "outputId": "800619c7-b767-42c8-f354-f2c9809b354c",
        "colab": {
          "base_uri": "https://localhost:8080/",
          "height": 215
        }
      },
      "source": [
        "  test = pd.read_csv('ouput_data.csv', encoding='utf-8', sep=',')\n",
        "  test.head(5)"
      ],
      "execution_count": 0,
      "outputs": [
        {
          "output_type": "execute_result",
          "data": {
            "text/html": [
              "<div>\n",
              "<style scoped>\n",
              "    .dataframe tbody tr th:only-of-type {\n",
              "        vertical-align: middle;\n",
              "    }\n",
              "\n",
              "    .dataframe tbody tr th {\n",
              "        vertical-align: top;\n",
              "    }\n",
              "\n",
              "    .dataframe thead th {\n",
              "        text-align: right;\n",
              "    }\n",
              "</style>\n",
              "<table border=\"1\" class=\"dataframe\">\n",
              "  <thead>\n",
              "    <tr style=\"text-align: right;\">\n",
              "      <th></th>\n",
              "      <th>age</th>\n",
              "      <th>job</th>\n",
              "      <th>marital</th>\n",
              "      <th>education</th>\n",
              "      <th>default</th>\n",
              "      <th>balance</th>\n",
              "      <th>housing</th>\n",
              "      <th>loan</th>\n",
              "      <th>contact</th>\n",
              "      <th>day</th>\n",
              "      <th>month</th>\n",
              "      <th>duration</th>\n",
              "      <th>campaign</th>\n",
              "      <th>pdays</th>\n",
              "      <th>previous</th>\n",
              "      <th>poutcome</th>\n",
              "      <th>y</th>\n",
              "    </tr>\n",
              "  </thead>\n",
              "  <tbody>\n",
              "    <tr>\n",
              "      <th>0</th>\n",
              "      <td>[30,41)</td>\n",
              "      <td>unemployed</td>\n",
              "      <td>married</td>\n",
              "      <td>primary</td>\n",
              "      <td>no</td>\n",
              "      <td>[-3313,9104)</td>\n",
              "      <td>no</td>\n",
              "      <td>no</td>\n",
              "      <td>cellular</td>\n",
              "      <td>[16,21)</td>\n",
              "      <td>oct</td>\n",
              "      <td>[4,508)</td>\n",
              "      <td>[1,9)</td>\n",
              "      <td>[-1,144)</td>\n",
              "      <td>[0,4)</td>\n",
              "      <td>unknown</td>\n",
              "      <td>no</td>\n",
              "    </tr>\n",
              "    <tr>\n",
              "      <th>1</th>\n",
              "      <td>[30,41)</td>\n",
              "      <td>services</td>\n",
              "      <td>married</td>\n",
              "      <td>secondary</td>\n",
              "      <td>no</td>\n",
              "      <td>[-3313,9104)</td>\n",
              "      <td>yes</td>\n",
              "      <td>yes</td>\n",
              "      <td>cellular</td>\n",
              "      <td>[11,16)</td>\n",
              "      <td>may</td>\n",
              "      <td>[4,508)</td>\n",
              "      <td>[1,9)</td>\n",
              "      <td>[289,434)</td>\n",
              "      <td>[4,8)</td>\n",
              "      <td>failure</td>\n",
              "      <td>no</td>\n",
              "    </tr>\n",
              "    <tr>\n",
              "      <th>2</th>\n",
              "      <td>[30,41)</td>\n",
              "      <td>management</td>\n",
              "      <td>single</td>\n",
              "      <td>tertiary</td>\n",
              "      <td>no</td>\n",
              "      <td>[-3313,9104)</td>\n",
              "      <td>yes</td>\n",
              "      <td>no</td>\n",
              "      <td>cellular</td>\n",
              "      <td>[16,21)</td>\n",
              "      <td>apr</td>\n",
              "      <td>[4,508)</td>\n",
              "      <td>[1,9)</td>\n",
              "      <td>[289,434)</td>\n",
              "      <td>[0,4)</td>\n",
              "      <td>failure</td>\n",
              "      <td>no</td>\n",
              "    </tr>\n",
              "    <tr>\n",
              "      <th>3</th>\n",
              "      <td>[30,41)</td>\n",
              "      <td>management</td>\n",
              "      <td>married</td>\n",
              "      <td>tertiary</td>\n",
              "      <td>no</td>\n",
              "      <td>[-3313,9104)</td>\n",
              "      <td>yes</td>\n",
              "      <td>yes</td>\n",
              "      <td>unknown</td>\n",
              "      <td>[1,6)</td>\n",
              "      <td>jun</td>\n",
              "      <td>[4,508)</td>\n",
              "      <td>[1,9)</td>\n",
              "      <td>[-1,144)</td>\n",
              "      <td>[0,4)</td>\n",
              "      <td>unknown</td>\n",
              "      <td>no</td>\n",
              "    </tr>\n",
              "    <tr>\n",
              "      <th>4</th>\n",
              "      <td>[52,63)</td>\n",
              "      <td>blue-collar</td>\n",
              "      <td>married</td>\n",
              "      <td>secondary</td>\n",
              "      <td>no</td>\n",
              "      <td>[-3313,9104)</td>\n",
              "      <td>yes</td>\n",
              "      <td>no</td>\n",
              "      <td>unknown</td>\n",
              "      <td>[1,6)</td>\n",
              "      <td>may</td>\n",
              "      <td>[4,508)</td>\n",
              "      <td>[1,9)</td>\n",
              "      <td>[-1,144)</td>\n",
              "      <td>[0,4)</td>\n",
              "      <td>unknown</td>\n",
              "      <td>no</td>\n",
              "    </tr>\n",
              "  </tbody>\n",
              "</table>\n",
              "</div>"
            ],
            "text/plain": [
              "       age          job  marital  education  ...      pdays previous poutcome   y\n",
              "0  [30,41)   unemployed  married    primary  ...   [-1,144)    [0,4)  unknown  no\n",
              "1  [30,41)     services  married  secondary  ...  [289,434)    [4,8)  failure  no\n",
              "2  [30,41)   management   single   tertiary  ...  [289,434)    [0,4)  failure  no\n",
              "3  [30,41)   management  married   tertiary  ...   [-1,144)    [0,4)  unknown  no\n",
              "4  [52,63)  blue-collar  married  secondary  ...   [-1,144)    [0,4)  unknown  no\n",
              "\n",
              "[5 rows x 17 columns]"
            ]
          },
          "metadata": {
            "tags": []
          },
          "execution_count": 389
        }
      ]
    },
    {
      "cell_type": "code",
      "metadata": {
        "id": "WKF8NuzoNzVa",
        "colab_type": "code",
        "outputId": "5deb2e03-09b3-41da-9c5a-ebd01fe47659",
        "colab": {
          "base_uri": "https://localhost:8080/",
          "height": 151
        }
      },
      "source": [
        "  f = open(\"log.txt\", \"r\")\n",
        "  print(f.read())"
      ],
      "execution_count": 0,
      "outputs": [
        {
          "output_type": "stream",
          "text": [
            "Numeric: age [19,30):482 [30,41):1950 [41,52):1253 [52,63):732 [63,74):66 [74,87):38 \n",
            "Numeric: balance [-3313,9104):4410 [9104,21521):94 [21521,33938):15 [33938,46355):1 [46355,58772):0 [58772,71188):1 \n",
            "Numeric: day [1,6):566 [6,11):770 [11,16):838 [16,21):1039 [21,26):502 [26,31):806 \n",
            "Numeric: duration [4,508):3945 [508,1012):474 [1012,1516):78 [1516,2020):19 [2020,2524):3 [2524,3025):2 \n",
            "Numeric: campaign [1,9):4334 [9,17):144 [17,25):29 [25,33):12 [33,41):0 [41,50):2 \n",
            "Numeric: pdays [-1,144):3922 [144,289):336 [289,434):242 [434,579):14 [579,724):3 [724,871):4 \n",
            "Numeric: previous [0,4):4297 [4,8):172 [8,12):35 [12,16):9 [16,20):3 [20,25):5 \n",
            "\n"
          ],
          "name": "stdout"
        }
      ]
    }
  ]
}