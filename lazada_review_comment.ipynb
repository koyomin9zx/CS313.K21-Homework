{
  "nbformat": 4,
  "nbformat_minor": 0,
  "metadata": {
    "colab": {
      "name": "Youtube_Spam_Detection.ipynb",
      "provenance": [],
      "toc_visible": true,
      "include_colab_link": true
    },
    "kernelspec": {
      "name": "python3",
      "display_name": "Python 3"
    },
    "accelerator": "GPU"
  },
  "cells": [
    {
      "cell_type": "markdown",
      "metadata": {
        "id": "view-in-github",
        "colab_type": "text"
      },
      "source": [
        "<a href=\"https://colab.research.google.com/github/koyomin9zx/CS313.K21-Homework/blob/master/lazada_review_comment.ipynb\" target=\"_parent\"><img src=\"https://colab.research.google.com/assets/colab-badge.svg\" alt=\"Open In Colab\"/></a>"
      ]
    },
    {
      "cell_type": "markdown",
      "metadata": {
        "id": "gPUAEN5SUkxw",
        "colab_type": "text"
      },
      "source": [
        "# ***Preprocessing***"
      ]
    },
    {
      "cell_type": "markdown",
      "metadata": {
        "id": "JZ96xPtVUs6_",
        "colab_type": "text"
      },
      "source": [
        "**upload and extract dataset**"
      ]
    },
    {
      "cell_type": "code",
      "metadata": {
        "id": "KszaqnV79KhB",
        "colab_type": "code",
        "colab": {}
      },
      "source": [
        "from google.colab import drive\n",
        "drive.mount('/content/drive')"
      ],
      "execution_count": 0,
      "outputs": []
    },
    {
      "cell_type": "code",
      "metadata": {
        "id": "Fc1fFt4bKifR",
        "colab_type": "code",
        "colab": {}
      },
      "source": [
        "!ln -s /content/drive/'My Drive'/Lazada_review"
      ],
      "execution_count": 0,
      "outputs": []
    },
    {
      "cell_type": "code",
      "metadata": {
        "id": "m7n984Hp9tVS",
        "colab_type": "code",
        "colab": {}
      },
      "source": [
        "!pip install scikit-learn==0.23.1\n",
        "!pip install underthesea"
      ],
      "execution_count": 0,
      "outputs": []
    },
    {
      "cell_type": "code",
      "metadata": {
        "id": "wBv6yon_Kv63",
        "colab_type": "code",
        "colab": {}
      },
      "source": [
        "!pip install unidecode"
      ],
      "execution_count": 0,
      "outputs": []
    },
    {
      "cell_type": "markdown",
      "metadata": {
        "id": "dXdJg9NeU0P5",
        "colab_type": "text"
      },
      "source": [
        "**import lib**"
      ]
    },
    {
      "cell_type": "code",
      "metadata": {
        "id": "m4potPEzU6Ix",
        "colab_type": "code",
        "colab": {}
      },
      "source": [
        "import pandas as pd\n",
        "import glob\n",
        "import seaborn as sns\n",
        "import string\n",
        "from string import digits, punctuation\n",
        "import re\n",
        "from nltk.corpus import wordnet\n",
        "from nltk.stem import WordNetLemmatizer\n",
        "from keras.preprocessing.text import Tokenizer\n",
        "from keras.preprocessing import sequence\n",
        "from keras.preprocessing.sequence import pad_sequences\n",
        "import numpy as np\n",
        "from keras.layers import LSTM, Activation, Dense, Dropout, Input, Embedding\n",
        "from keras.optimizers import RMSprop\n",
        "from keras.models import Sequential\n",
        "from keras.layers import Dense, Embedding, LSTM, SpatialDropout1D\n",
        "from sklearn.model_selection import train_test_split\n",
        "import matplotlib.pyplot as plt\n",
        "from mlxtend.plotting import plot_confusion_matrix\n",
        "from sklearn.feature_extraction.text import TfidfVectorizer\n",
        "from sklearn import model_selection, naive_bayes, svm\n",
        "from sklearn.metrics import accuracy_score\n",
        "from sklearn.metrics import classification_report,confusion_matrix\n",
        "from underthesea import word_tokenize\n",
        "import unidecode\n",
        "import joblib\n",
        "import nltk\n",
        "nltk.download('averaged_perceptron_tagger')\n",
        "nltk.download('wordnet')\n",
        "nltk.download('punkt')\n",
        "nltk.download('stopwords')\n"
      ],
      "execution_count": 0,
      "outputs": []
    },
    {
      "cell_type": "markdown",
      "metadata": {
        "id": "tU0qnztsVFQ8",
        "colab_type": "text"
      },
      "source": [
        "**Import data into Pandas**"
      ]
    },
    {
      "cell_type": "code",
      "metadata": {
        "id": "bWur2VrQVQq-",
        "colab_type": "code",
        "outputId": "d86fbe18-93c2-40d7-c4fd-f77622593c6a",
        "colab": {
          "base_uri": "https://localhost:8080/",
          "height": 195
        }
      },
      "source": [
        "df_train= pd.read_csv('/content/Lazada_review/train.csv')\n",
        "df_test= pd.read_csv('/content/Lazada_review/test.csv')\n",
        "\n",
        "df_train.head(5)\n"
      ],
      "execution_count": 7,
      "outputs": [
        {
          "output_type": "execute_result",
          "data": {
            "text/html": [
              "<div>\n",
              "<style scoped>\n",
              "    .dataframe tbody tr th:only-of-type {\n",
              "        vertical-align: middle;\n",
              "    }\n",
              "\n",
              "    .dataframe tbody tr th {\n",
              "        vertical-align: top;\n",
              "    }\n",
              "\n",
              "    .dataframe thead th {\n",
              "        text-align: right;\n",
              "    }\n",
              "</style>\n",
              "<table border=\"1\" class=\"dataframe\">\n",
              "  <thead>\n",
              "    <tr style=\"text-align: right;\">\n",
              "      <th></th>\n",
              "      <th>cau_goc</th>\n",
              "      <th>nhan</th>\n",
              "    </tr>\n",
              "  </thead>\n",
              "  <tbody>\n",
              "    <tr>\n",
              "      <th>0</th>\n",
              "      <td>cam ơn shop nhiều lam, e nhận dc máy rồi,  sài...</td>\n",
              "      <td>1</td>\n",
              "    </tr>\n",
              "    <tr>\n",
              "      <th>1</th>\n",
              "      <td>Ngon như ăn cà</td>\n",
              "      <td>1</td>\n",
              "    </tr>\n",
              "    <tr>\n",
              "      <th>2</th>\n",
              "      <td>Ve ngoai hinh khoang 96℅,mat kinh truoc va sau...</td>\n",
              "      <td>1</td>\n",
              "    </tr>\n",
              "    <tr>\n",
              "      <th>3</th>\n",
              "      <td>lỗi vào 4G, phải khởi động lại máy thì mới chu...</td>\n",
              "      <td>0</td>\n",
              "    </tr>\n",
              "    <tr>\n",
              "      <th>4</th>\n",
              "      <td>Đã mua và nhận xét : ngoại hình khá, màn hình ...</td>\n",
              "      <td>0</td>\n",
              "    </tr>\n",
              "  </tbody>\n",
              "</table>\n",
              "</div>"
            ],
            "text/plain": [
              "                                             cau_goc  nhan\n",
              "0  cam ơn shop nhiều lam, e nhận dc máy rồi,  sài...     1\n",
              "1                                     Ngon như ăn cà     1\n",
              "2  Ve ngoai hinh khoang 96℅,mat kinh truoc va sau...     1\n",
              "3  lỗi vào 4G, phải khởi động lại máy thì mới chu...     0\n",
              "4  Đã mua và nhận xét : ngoại hình khá, màn hình ...     0"
            ]
          },
          "metadata": {
            "tags": []
          },
          "execution_count": 7
        }
      ]
    },
    {
      "cell_type": "code",
      "metadata": {
        "id": "P4-PA-aeFTt_",
        "colab_type": "code",
        "outputId": "39021aab-5137-4339-b65c-52cb9e98361a",
        "colab": {
          "base_uri": "https://localhost:8080/",
          "height": 168
        }
      },
      "source": [
        "df_train.info()"
      ],
      "execution_count": 8,
      "outputs": [
        {
          "output_type": "stream",
          "text": [
            "<class 'pandas.core.frame.DataFrame'>\n",
            "RangeIndex: 10000 entries, 0 to 9999\n",
            "Data columns (total 2 columns):\n",
            " #   Column   Non-Null Count  Dtype \n",
            "---  ------   --------------  ----- \n",
            " 0   cau_goc  10000 non-null  object\n",
            " 1   nhan     10000 non-null  int64 \n",
            "dtypes: int64(1), object(1)\n",
            "memory usage: 156.4+ KB\n"
          ],
          "name": "stdout"
        }
      ]
    },
    {
      "cell_type": "code",
      "metadata": {
        "id": "eMGGObQ8FW5p",
        "colab_type": "code",
        "outputId": "876d55fd-9f8e-43da-bb41-bbadcebfbd4e",
        "colab": {
          "base_uri": "https://localhost:8080/",
          "height": 168
        }
      },
      "source": [
        "df_test.info()"
      ],
      "execution_count": 9,
      "outputs": [
        {
          "output_type": "stream",
          "text": [
            "<class 'pandas.core.frame.DataFrame'>\n",
            "RangeIndex: 2537 entries, 0 to 2536\n",
            "Data columns (total 2 columns):\n",
            " #   Column   Non-Null Count  Dtype \n",
            "---  ------   --------------  ----- \n",
            " 0   cau_goc  2537 non-null   object\n",
            " 1   nhan     2537 non-null   int64 \n",
            "dtypes: int64(1), object(1)\n",
            "memory usage: 39.8+ KB\n"
          ],
          "name": "stdout"
        }
      ]
    },
    {
      "cell_type": "markdown",
      "metadata": {
        "id": "-cPRMlAdv7zL",
        "colab_type": "text"
      },
      "source": [
        "**DATA VISUALIZATION**"
      ]
    },
    {
      "cell_type": "code",
      "metadata": {
        "id": "ynV5HOxpv64-",
        "colab_type": "code",
        "outputId": "2f9abc4f-641b-4f3b-92dd-60fa881cf827",
        "colab": {
          "base_uri": "https://localhost:8080/",
          "height": 296
        }
      },
      "source": [
        "sns.set_style(\"dark\")\n",
        "sns.countplot(df_train.nhan)"
      ],
      "execution_count": 10,
      "outputs": [
        {
          "output_type": "execute_result",
          "data": {
            "text/plain": [
              "<matplotlib.axes._subplots.AxesSubplot at 0x7fc1c544c710>"
            ]
          },
          "metadata": {
            "tags": []
          },
          "execution_count": 10
        },
        {
          "output_type": "display_data",
          "data": {
            "image/png": "[encoded data removed]",
            "text/plain": [
              "<Figure size 432x288 with 1 Axes>"
            ]
          },
          "metadata": {
            "tags": []
          }
        }
      ]
    },
    {
      "cell_type": "markdown",
      "metadata": {
        "id": "7WqDWMpLV-7F",
        "colab_type": "text"
      },
      "source": [
        "**See how comment look like**"
      ]
    },
    {
      "cell_type": "code",
      "metadata": {
        "id": "wVwRrjFcWDmF",
        "colab_type": "code",
        "outputId": "3691f992-a953-4483-bf20-87cd97acd4a7",
        "colab": {
          "base_uri": "https://localhost:8080/",
          "height": 406
        }
      },
      "source": [
        "for i,content in enumerate (df_train['cau_goc'], 1):\n",
        "    if i > 20:\n",
        "        break\n",
        "    else:\n",
        "        print(i, content)\n",
        "\n"
      ],
      "execution_count": 11,
      "outputs": [
        {
          "output_type": "stream",
          "text": [
            "1 cam ơn shop nhiều lam, e nhận dc máy rồi,  sài ok lam, 😄😄😄😄\n",
            "2 Ngon như ăn cà\n",
            "3 Ve ngoai hinh khoang 96℅,mat kinh truoc va sau may co vet xuoc.loa e nay hoi be,xet ve gia tien oke.mih dung chi nghe goi,quan trong ben la oke.\n",
            "4 lỗi vào 4G, phải khởi động lại máy thì mới chuyển E thành 4G, chuyển địa điểm khác bật 4G lên hiện E thì khởi động lại tiếp thì ok\n",
            "5 Đã mua và nhận xét : ngoại hình khá, màn hình rất rỗ, ý kiến cá nhân mình thì nên bỏ cam trước và tăng độ phân giải màn hình lên tí nữa vì cam trước độ phân giải quá thấp nên chẳng mấy ai chụp hình với nó cả \n",
            "6 Máy bị lỗi giải quyết như thế nào shop oi.\n",
            "7 Máy lướt web mau nóng máy,mặt lưng bám vân tay khá nhiều,cầm trơn trượt rất dễ rơi.pin mau hết..hơi thất vọng \n",
            "8 Sai lầm khi mua máy này. Sản phẩm bị lỗi quá nhiều. Đơ liên tục.ra tgdd họ k đổi cho mình đập luôn máy tại cửa hàng vì sản phẩm lừa khách hàng.k phát trực tiếp trên face.pjn 5k mà k bằng pin 2k.sắc mặt 5 tiếng .dùng chưa đến 2 tương hết pin\n",
            "9 Máy xài rất ok Với giá tiền vậy thì khg chê vào đâu\n",
            "10 Đôi lúc có vẻ máy phản hồi cảm ứng hơi bị đơ, Hay cảm ứng kém thì không rõ nhưng thao tác hơi bị ức chế. Về cảm biến vân tay thì cực ức chế, cực kỳ kém nhạy. Tối đa ba vân tay chỉ ép cho một ngón thì cũng chỉ cải thiện đc 50%, vẫn 4  - 5 lần mới mở đc máy. Một số app thông dụng chạy tí thì  có phát sinh lỗi. Thiết kế và cảm nhận thì ko như kỳ vọng. Đc cái sạc nhanh, game vừa vẫn ổn. \n",
            "11 Chơi game không được mướt \n",
            "Pin không trâu lắm.\n",
            "Tầm 6 tr 9 thì vừa camera chụp tối \n",
            "12 Sản phẩm tuyệt vời đúng như quảng cáo trên trang web\n",
            "13 Hàng đóng gói cẩn thận giao hàng nhanh. Hiện tại xài rất OK cho shop 5 sao\n",
            "14 Chất lượng tốt so với giá, nghe gọi to rõ, sóng ổn.\n",
            "15 sản phẩm tốt hơn mong đợi  máy rất đẹp chiến game  khá mượt mà mà  pin lại trâu nói chung là rat hài lòng  lãnh lương sẻ mua thêm 1cai nữa cho e  tks nhé\n",
            "16 Ko s.dụng nhiều, nên ko rõ cái lỗi của pin. Nhưng: CAM selfie xấu lắm, 4G hay LTE chỉ xài đc từ SIM2 còn SIM1 không, loa ngoài có lúc to lúc nhỏ, cái thanh cuộn trên xuống hôm rồi bị tràng mất 1 phần rìa (nay thì ko bị nữa) ưu điểm có nhưng ko nhiều. \n",
            "17 Mua máy về xài mang thêm bệnh tức.thua đồ TQ. Xài lâu thêm hại thân do amoled xuống cấp làm hại mắt. Samsung xưa xài ok giờ xài lỗi liên tục .ai mún mua nên suy nghĩ kĩ lại.đừng vì thương hiệu mà lầm.đồ nào cũng xài đc quan trọng cái nào đáp ứng đúng nhu cầu.mua con này về tức thêm\n",
            "18 Phải chỉnh sim lệch sang trái như này mới nhận sim. Máy dùng ngon nhé. Shop phục vụ nhiệt tình 😆😆\n",
            "19 Gửi rất cẩn thận ạ , máy rất đẹp ,rất hài lòng \n",
            "20 Lúc đầu sài thấy ổn, chỉ pin tụt nhanh, cảm ứng bàn phím hay bị lỗi văng ra ngoài, hay bị đơ khi chat face, zalo, nhận cuộc gọi khi đang chat, sóng wifi thì ổn, 4G thì tào lao quá so với các sản phẩm cùng tầm giá, chụp hình bông hoa, phong cảnh lúc đưa vào camera màu sắc rất đẹp, nhưng khi xem hình thì 7/10 với lúc chụp.\n"
          ],
          "name": "stdout"
        }
      ]
    },
    {
      "cell_type": "markdown",
      "metadata": {
        "id": "aEcDp-P2WloX",
        "colab_type": "text"
      },
      "source": [
        "**Text cleansing**"
      ]
    },
    {
      "cell_type": "code",
      "metadata": {
        "id": "eVl0JP_3WoKH",
        "colab_type": "code",
        "outputId": "21a1bebf-a61e-407e-d73c-04e4b0720060",
        "colab": {
          "base_uri": "https://localhost:8080/",
          "height": 101
        }
      },
      "source": [
        "def standardize_data(row):\n",
        "    # Xóa dấu chấm, phẩy, hỏi ở cuối câu\n",
        "    row = re.sub(r\"[\\.,\\?]+$-\", \"\", row)\n",
        "    # Xóa tất cả dấu chấm, phẩy, chấm phẩy, chấm thang, ... trong câu\n",
        "    row = row.replace(\",\", \" \").replace(\".\", \" \") \\\n",
        "        .replace(\";\", \" \").replace(\"“\", \" \") \\\n",
        "        .replace(\":\", \" \").replace(\"”\", \" \") \\\n",
        "        .replace('\"', \" \").replace(\"'\", \" \") \\\n",
        "        .replace(\"!\", \" \").replace(\"?\", \" \") \\\n",
        "        .replace(\"-\", \" \").replace(\"?\", \" \")\n",
        "    row = row.strip()\n",
        "    return row\n",
        "\n",
        "hl_cleansed=[]\n",
        "for hl in df_train['cau_goc']:\n",
        "    hl=standardize_data(hl)\n",
        "    hl_cleansed.append(hl)\n",
        "    \n",
        "# View comparison\n",
        "index=0\n",
        "print('Original texts :')\n",
        "print(df_train['cau_goc'][index])\n",
        "print('\\nAfter cleansed :')\n",
        "print(hl_cleansed[index])"
      ],
      "execution_count": 12,
      "outputs": [
        {
          "output_type": "stream",
          "text": [
            "Original texts :\n",
            "cam ơn shop nhiều lam, e nhận dc máy rồi,  sài ok lam, 😄😄😄😄\n",
            "\n",
            "After cleansed :\n",
            "cam ơn shop nhiều lam  e nhận dc máy rồi   sài ok lam  😄😄😄😄\n"
          ],
          "name": "stdout"
        }
      ]
    },
    {
      "cell_type": "markdown",
      "metadata": {
        "id": "dpY1y859XO4u",
        "colab_type": "text"
      },
      "source": [
        "**Tokenization, remove accents, remove stopwords**"
      ]
    },
    {
      "cell_type": "code",
      "metadata": {
        "id": "nPTwGHaXXNTp",
        "colab_type": "code",
        "outputId": "60c1e21e-ccd4-4b3a-ccab-ae518fbf5a55",
        "colab": {
          "base_uri": "https://localhost:8080/",
          "height": 121
        }
      },
      "source": [
        "def vi_tokenizer(row):\n",
        "    return word_tokenize(row, format=\"text\")\n",
        "\n",
        "def remove_accents(row):\n",
        "  return unidecode.unidecode(row)\n",
        "\n",
        "def remove_stopwords(stopwords,hl_split):\n",
        "  sent = [s for s in hl_split if s not in stopwords ]\n",
        "  return sent\n",
        "\n",
        "stopwords=set(open('/content/Lazada_review/stopwords.txt').read().split(' ')[:-1])\n",
        "\n",
        "hl_tokens = []\n",
        "for hl in hl_cleansed:\n",
        "    hl=vi_tokenizer(hl)\n",
        "    clean=remove_stopwords(stopwords,hl.split())\n",
        "    clean=[remove_accents(s) for s in clean]\n",
        "    hl_tokens.append(clean)\n",
        "\n",
        "# View Comparison\n",
        "index=3\n",
        "print('Before tokenization :')\n",
        "print(hl_cleansed[index])\n",
        "print('\\nAfter tokenization :')\n",
        "print(hl_tokens[index])"
      ],
      "execution_count": 71,
      "outputs": [
        {
          "output_type": "stream",
          "text": [
            "Before tokenization :\n",
            "lỗi vào 4G  phải khởi động lại máy thì mới chuyển E thành 4G  chuyển địa điểm khác bật 4G lên hiện E thì khởi động lại tiếp thì ok\n",
            "\n",
            "After tokenization :\n",
            "['loi', '4G', 'khoi_dong', 'may', 'moi', 'chuyen', 'E', 'thanh', '4G', 'chuyen', 'dia_diem', 'khac', 'bat', '4G', 'hien', 'E', 'khoi_dong', 'tiep', 'ok']\n"
          ],
          "name": "stdout"
        }
      ]
    },
    {
      "cell_type": "markdown",
      "metadata": {
        "id": "8jtk74hVseuV",
        "colab_type": "text"
      },
      "source": [
        "**Lemmatization**"
      ]
    },
    {
      "cell_type": "markdown",
      "metadata": {
        "id": "AM1y1cQmsxep",
        "colab_type": "text"
      },
      "source": [
        "# ***Training LSTM Model***"
      ]
    },
    {
      "cell_type": "code",
      "metadata": {
        "id": "iJYDzkfdt-D2",
        "colab_type": "code",
        "colab": {}
      },
      "source": [
        "# Vectorize and convert text into sequences\n",
        "max_features = 2000\n",
        "max_token = len(max(hl_tokens,key=len))\n",
        "tokenizer = Tokenizer(num_words=max_features)\n",
        "tokenizer.fit_on_texts(hl_tokens)\n",
        "sequences = tokenizer.texts_to_sequences(hl_tokens)\n",
        "X_Train = pad_sequences(sequences, maxlen=max_token)"
      ],
      "execution_count": 0,
      "outputs": []
    },
    {
      "cell_type": "markdown",
      "metadata": {
        "id": "YZSa0su7uENb",
        "colab_type": "text"
      },
      "source": [
        "Split Train, Test"
      ]
    },
    {
      "cell_type": "code",
      "metadata": {
        "id": "RseQVm61UBoM",
        "colab_type": "code",
        "colab": {}
      },
      "source": [
        "hl_test=[]\n",
        "for hl in df_test['cau_goc']:\n",
        "    hl=standardize_data(hl)\n",
        "    hl_test.append(hl)\n",
        "\n",
        "hl_tokens_test = []\n",
        "for hl in hl_test:\n",
        "    hl=vi_tokenizer(hl)\n",
        "    clean=remove_stopwords(stopwords,hl.split())\n",
        "    clean=[remove_accents(s) for s in clean]\n",
        "    hl_tokens_test.append(clean)\n",
        "\n",
        "sequences_test = tokenizer.texts_to_sequences(hl_tokens_test)\n",
        "X_test=pad_sequences(sequences_test, maxlen=max_token)\n"
      ],
      "execution_count": 0,
      "outputs": []
    },
    {
      "cell_type": "code",
      "metadata": {
        "id": "fuWARJQWWhN-",
        "colab_type": "code",
        "colab": {}
      },
      "source": [
        "Y_Train=df_train['nhan'].values\n",
        "Y_Train = np.vstack(Y_Train)\n",
        "\n",
        "Y_test=df_test['nhan'].values\n",
        "Y_test=np.vstack(Y_test)"
      ],
      "execution_count": 0,
      "outputs": []
    },
    {
      "cell_type": "markdown",
      "metadata": {
        "id": "LgoJaBDJuMgS",
        "colab_type": "text"
      },
      "source": [
        "Building the Model"
      ]
    },
    {
      "cell_type": "code",
      "metadata": {
        "id": "lFDFFq9kuM0C",
        "colab_type": "code",
        "outputId": "461d9b23-4869-48b0-a9a3-fbcc0486cd17",
        "colab": {
          "base_uri": "https://localhost:8080/",
          "height": 403
        }
      },
      "source": [
        "embed_dim = 64\n",
        "model = Sequential()\n",
        "model.add(Embedding(max_features, embed_dim,input_length = max_token))\n",
        "model.add(LSTM(96, dropout=0.2, recurrent_dropout=0.2, activation='relu'))\n",
        "model.add(Dense(128))\n",
        "model.add(Activation('relu'))\n",
        "model.add(Dropout(0.5))\n",
        "model.add(Dense(1))\n",
        "model.add(Activation('sigmoid'))\n",
        "model.compile(loss = 'binary_crossentropy', optimizer='adam',metrics = ['accuracy'])\n",
        "print(model.summary())"
      ],
      "execution_count": 85,
      "outputs": [
        {
          "output_type": "stream",
          "text": [
            "Model: \"sequential_2\"\n",
            "_________________________________________________________________\n",
            "Layer (type)                 Output Shape              Param #   \n",
            "=================================================================\n",
            "embedding_2 (Embedding)      (None, 250, 64)           128000    \n",
            "_________________________________________________________________\n",
            "lstm_2 (LSTM)                (None, 96)                61824     \n",
            "_________________________________________________________________\n",
            "dense_2 (Dense)              (None, 128)               12416     \n",
            "_________________________________________________________________\n",
            "activation_2 (Activation)    (None, 128)               0         \n",
            "_________________________________________________________________\n",
            "dropout_1 (Dropout)          (None, 128)               0         \n",
            "_________________________________________________________________\n",
            "dense_3 (Dense)              (None, 1)                 129       \n",
            "_________________________________________________________________\n",
            "activation_3 (Activation)    (None, 1)                 0         \n",
            "=================================================================\n",
            "Total params: 202,369\n",
            "Trainable params: 202,369\n",
            "Non-trainable params: 0\n",
            "_________________________________________________________________\n",
            "None\n"
          ],
          "name": "stdout"
        }
      ]
    },
    {
      "cell_type": "markdown",
      "metadata": {
        "id": "kIVsgjeSuVzt",
        "colab_type": "text"
      },
      "source": [
        "Training process"
      ]
    },
    {
      "cell_type": "code",
      "metadata": {
        "id": "s0efz9cCuWA7",
        "colab_type": "code",
        "outputId": "fc9ee368-1825-433d-e1a8-e3cc75f053ea",
        "colab": {
          "base_uri": "https://localhost:8080/",
          "height": 171
        }
      },
      "source": [
        "epoch = 20\n",
        "batch_size = 128\n",
        "history=model.fit(X_Train, Y_Train, epochs = epoch, batch_size=batch_size, verbose = 2, validation_split=0.2)"
      ],
      "execution_count": 0,
      "outputs": [
        {
          "output_type": "stream",
          "text": [
            "/usr/local/lib/python3.6/dist-packages/tensorflow/python/framework/indexed_slices.py:434: UserWarning: Converting sparse IndexedSlices to a dense Tensor of unknown shape. This may consume a large amount of memory.\n",
            "  \"Converting sparse IndexedSlices to a dense Tensor of unknown shape. \"\n"
          ],
          "name": "stderr"
        },
        {
          "output_type": "stream",
          "text": [
            "Train on 8000 samples, validate on 2000 samples\n",
            "Epoch 1/20\n",
            " - 34s - loss: 49770890527.3704 - accuracy: 0.6094 - val_loss: 0.6931 - val_accuracy: 0.5090\n",
            "Epoch 2/20\n",
            " - 33s - loss: 0.6931 - accuracy: 0.5063 - val_loss: 0.6930 - val_accuracy: 0.5090\n",
            "Epoch 3/20\n"
          ],
          "name": "stdout"
        }
      ]
    },
    {
      "cell_type": "markdown",
      "metadata": {
        "id": "KyZoDoOFuer8",
        "colab_type": "text"
      },
      "source": [
        "# ***Model Evaluation***\n",
        "\n"
      ]
    },
    {
      "cell_type": "code",
      "metadata": {
        "id": "vulxXnegue6e",
        "colab_type": "code",
        "outputId": "092dbc88-29ea-408e-bfda-8850645e5823",
        "colab": {
          "base_uri": "https://localhost:8080/",
          "height": 568
        }
      },
      "source": [
        "fig, (ax1, ax2) = plt.subplots(1,2,figsize=(15,5))\n",
        "fig.suptitle(\"Performance of Model\")\n",
        "ax1.plot(history.history['accuracy'])\n",
        "ax1.plot(history.history['val_accuracy'])\n",
        "vline_cut = np.where(history.history['val_accuracy'] == np.max(history.history['val_accuracy']))[0][0]\n",
        "ax1.set_title(\"Model Accuracy\")\n",
        "ax1.legend(['train', 'test'])\n",
        "\n",
        "ax2.plot(history.history['loss'])\n",
        "ax2.plot(history.history['val_loss'])\n",
        "vline_cut = np.where(history.history['val_loss'] == np.min(history.history['val_loss']))[0][0]\n",
        "ax2.set_title(\"Model Loss\")\n",
        "ax2.legend(['train', 'test'])\n",
        "plt.show()"
      ],
      "execution_count": 83,
      "outputs": [
        {
          "output_type": "error",
          "ename": "IndexError",
          "evalue": "ignored",
          "traceback": [
            "\u001b[0;31m---------------------------------------------------------------------------\u001b[0m",
            "\u001b[0;31mIndexError\u001b[0m                                Traceback (most recent call last)",
            "\u001b[0;32m<ipython-input-83-c21667a2bccf>\u001b[0m in \u001b[0;36m<module>\u001b[0;34m()\u001b[0m\n\u001b[1;32m      9\u001b[0m \u001b[0max2\u001b[0m\u001b[0;34m.\u001b[0m\u001b[0mplot\u001b[0m\u001b[0;34m(\u001b[0m\u001b[0mhistory\u001b[0m\u001b[0;34m.\u001b[0m\u001b[0mhistory\u001b[0m\u001b[0;34m[\u001b[0m\u001b[0;34m'loss'\u001b[0m\u001b[0;34m]\u001b[0m\u001b[0;34m)\u001b[0m\u001b[0;34m\u001b[0m\u001b[0;34m\u001b[0m\u001b[0m\n\u001b[1;32m     10\u001b[0m \u001b[0max2\u001b[0m\u001b[0;34m.\u001b[0m\u001b[0mplot\u001b[0m\u001b[0;34m(\u001b[0m\u001b[0mhistory\u001b[0m\u001b[0;34m.\u001b[0m\u001b[0mhistory\u001b[0m\u001b[0;34m[\u001b[0m\u001b[0;34m'val_loss'\u001b[0m\u001b[0;34m]\u001b[0m\u001b[0;34m)\u001b[0m\u001b[0;34m\u001b[0m\u001b[0;34m\u001b[0m\u001b[0m\n\u001b[0;32m---> 11\u001b[0;31m \u001b[0mvline_cut\u001b[0m \u001b[0;34m=\u001b[0m \u001b[0mnp\u001b[0m\u001b[0;34m.\u001b[0m\u001b[0mwhere\u001b[0m\u001b[0;34m(\u001b[0m\u001b[0mhistory\u001b[0m\u001b[0;34m.\u001b[0m\u001b[0mhistory\u001b[0m\u001b[0;34m[\u001b[0m\u001b[0;34m'val_loss'\u001b[0m\u001b[0;34m]\u001b[0m \u001b[0;34m==\u001b[0m \u001b[0mnp\u001b[0m\u001b[0;34m.\u001b[0m\u001b[0mmin\u001b[0m\u001b[0;34m(\u001b[0m\u001b[0mhistory\u001b[0m\u001b[0;34m.\u001b[0m\u001b[0mhistory\u001b[0m\u001b[0;34m[\u001b[0m\u001b[0;34m'val_loss'\u001b[0m\u001b[0;34m]\u001b[0m\u001b[0;34m)\u001b[0m\u001b[0;34m)\u001b[0m\u001b[0;34m[\u001b[0m\u001b[0;36m0\u001b[0m\u001b[0;34m]\u001b[0m\u001b[0;34m[\u001b[0m\u001b[0;36m0\u001b[0m\u001b[0;34m]\u001b[0m\u001b[0;34m\u001b[0m\u001b[0;34m\u001b[0m\u001b[0m\n\u001b[0m\u001b[1;32m     12\u001b[0m \u001b[0max2\u001b[0m\u001b[0;34m.\u001b[0m\u001b[0mset_title\u001b[0m\u001b[0;34m(\u001b[0m\u001b[0;34m\"Model Loss\"\u001b[0m\u001b[0;34m)\u001b[0m\u001b[0;34m\u001b[0m\u001b[0;34m\u001b[0m\u001b[0m\n\u001b[1;32m     13\u001b[0m \u001b[0max2\u001b[0m\u001b[0;34m.\u001b[0m\u001b[0mlegend\u001b[0m\u001b[0;34m(\u001b[0m\u001b[0;34m[\u001b[0m\u001b[0;34m'train'\u001b[0m\u001b[0;34m,\u001b[0m \u001b[0;34m'test'\u001b[0m\u001b[0;34m]\u001b[0m\u001b[0;34m)\u001b[0m\u001b[0;34m\u001b[0m\u001b[0;34m\u001b[0m\u001b[0m\n",
            "\u001b[0;31mIndexError\u001b[0m: index 0 is out of bounds for axis 0 with size 0"
          ]
        },
        {
          "output_type": "display_data",
          "data": {
            "image/png": "[encoded data removed]",
            "text/plain": [
              "<Figure size 1080x360 with 2 Axes>"
            ]
          },
          "metadata": {
            "tags": []
          }
        }
      ]
    },
    {
      "cell_type": "markdown",
      "metadata": {
        "id": "bctsDwmGunnC",
        "colab_type": "text"
      },
      "source": [
        "# ***Test Model***"
      ]
    },
    {
      "cell_type": "code",
      "metadata": {
        "id": "QdXPIWqX5ZV9",
        "colab_type": "code",
        "colab": {}
      },
      "source": [
        "pred=np.around(model.predict(X_test))\n",
        "fig, ax = plot_confusion_matrix(conf_mat=confusion_matrix(Y_test,pred))\n",
        "plt.show()"
      ],
      "execution_count": 0,
      "outputs": []
    },
    {
      "cell_type": "code",
      "metadata": {
        "id": "C4titeOt6WVX",
        "colab_type": "code",
        "outputId": "4326dfe5-fc57-40e8-dec1-fb438cdf7b76",
        "colab": {
          "base_uri": "https://localhost:8080/",
          "height": 168
        }
      },
      "source": [
        "print(classification_report(Y_test,pred))"
      ],
      "execution_count": 0,
      "outputs": [
        {
          "output_type": "stream",
          "text": [
            "              precision    recall  f1-score   support\n",
            "\n",
            "           0       0.80      0.96      0.87       279\n",
            "           1       0.96      0.78      0.86       308\n",
            "\n",
            "    accuracy                           0.87       587\n",
            "   macro avg       0.88      0.87      0.87       587\n",
            "weighted avg       0.88      0.87      0.87       587\n",
            "\n"
          ],
          "name": "stdout"
        }
      ]
    },
    {
      "cell_type": "markdown",
      "metadata": {
        "id": "3W3GGFrtydIP",
        "colab_type": "text"
      },
      "source": [
        "# ***Use Another ML Algorithms to Classify***"
      ]
    },
    {
      "cell_type": "markdown",
      "metadata": {
        "id": "hc6yudU6yiTr",
        "colab_type": "text"
      },
      "source": [
        "**Preparing the Data**"
      ]
    },
    {
      "cell_type": "code",
      "metadata": {
        "id": "dHQmHnP8ytNr",
        "colab_type": "code",
        "colab": {}
      },
      "source": [
        "X = [\" \".join(x) for x in hl_lemmatized]\n",
        "Train_X, Test_X, Train_Y, Test_Y = train_test_split(X,df['CLASS'],test_size=0.3)"
      ],
      "execution_count": 0,
      "outputs": []
    },
    {
      "cell_type": "markdown",
      "metadata": {
        "id": "QHwx3tOFy49L",
        "colab_type": "text"
      },
      "source": [
        "**Word Vectorization using TF-IDF**"
      ]
    },
    {
      "cell_type": "code",
      "metadata": {
        "id": "3vbnbytFyxAb",
        "colab_type": "code",
        "colab": {}
      },
      "source": [
        "Tfidf_vect = TfidfVectorizer(max_features=5000)\n",
        "Tfidf_vect.fit(X)\n",
        "Train_X_Tfidf = Tfidf_vect.transform(Train_X)\n",
        "Test_X_Tfidf = Tfidf_vect.transform(Test_X)"
      ],
      "execution_count": 0,
      "outputs": []
    },
    {
      "cell_type": "code",
      "metadata": {
        "id": "XYYPzaVW9rvE",
        "colab_type": "code",
        "outputId": "af34bec4-7426-4861-dcff-1e078799c0dd",
        "colab": {
          "base_uri": "https://localhost:8080/",
          "height": 54
        }
      },
      "source": [
        "print(Tfidf_vect.vocabulary_)"
      ],
      "execution_count": 0,
      "outputs": [
        {
          "output_type": "stream",
          "text": [
            "{'best': 295, 'part': 2375, 'wierd': 3556, 'but': 413, 'funny': 1174, 'hey': 1375, 'guy': 1301, 'im': 1642, 'human': 1601, 'dont': 816, 'want': 3471, 'to': 3260, 'be': 260, 'sexy': 2837, 'fuck': 1163, 'giraffe': 1218, 'already': 103, 'have': 1344, 'the': 3206, 'money': 2146, 'for': 1117, 'surgery': 3126, 'elongate': 897, 'my': 2202, 'spinal': 3006, 'core': 625, 'change': 469, 'skin': 2914, 'pigment': 2434, 'and': 131, 'everything': 967, 'else': 898, 'like': 1900, 'this': 3230, 'post': 2497, 'so': 2945, 'others': 2346, 'can': 426, 'root': 2751, 'me': 2051, 'on': 2321, 'in': 1656, 'dream': 830, 'with': 3575, 'you': 3652, 'make': 2020, 'music': 2189, 'check': 488, 'out': 2352, 'first': 1090, 'song': 2964, 'giraffebruuh': 1219, 'party': 2376, 'rocklolwho': 2745, 'shuffle': 2879, 'rock': 2743, 'omg': 2318, 'just': 1781, 'really': 2645, 'fun': 1171, 'awsome': 226, 'wow': 3604, 'increible': 1667, 'love': 1971, 'much': 2181, 'likeee': 1905, 'miss': 2122, 'when': 3537, 'people': 2404, 'dress': 835, 'last': 1856, 'year': 3640, 'of': 2298, 'decent': 723, 'ever': 958, 'super': 3115, 'nice': 2238, 'musique': 2196, 'wowwwwwwwwwwwwwwwwwwwwwwwwwwwwww': 3605, 'thumbs': 3244, 'up': 3369, 'if': 1624, 'watch': 3486, 'it': 1721, 'increidebl': 1668, 'lmfao': 1933, 'superr': 3118, 'llikee': 1931, 'yeah': 3639, 'lets': 1886, 'start': 3035, 'awesome': 220, 'need': 2218, 'reach': 2636, 'mil': 2099, 'view': 3425, 'while': 3541, 'tango': 3161, 'switch': 3144, 'bitch': 326, 'not': 2270, 'fairrrrrrr': 1016, 'girl': 1220, 'remember': 2679, 'back': 238, 'popular': 2487, 'everyone': 965, 'our': 2350, 'school': 2791, 'crazy': 649, 'video': 3415, 'dance': 697, 'will': 3561, 'always': 108, 'favorite': 1042, 'is': 1717, 'anthem': 149, 'ft': 1160, 'lauren': 1866, 'bennett': 292, 'goo': 1243, 'httpsyoutubekqzrkcpj': 1532, 'box': 368, 'man': 2026, 'got': 1261, 'some': 2954, 'moves': 2172, 'he': 1348, 'makes': 2021, 'meh': 2067, 'smile': 2939, 'hire': 1388, 'its': 1726, 'that': 3203, 'mahogany': 2015, 'there': 3214, 'lmao': 1932, 'actually': 36, 'didnt': 766, 'know': 1826, 'her': 1365, 'brother': 393, 'uncle': 3347, 'loveparty': 1974, 'life': 1894, 'stopis': 3055, 'very': 3408, 'top': 3272, 'ahhh': 79, 'suck': 3103, 'xd': 3625, 'cute': 682, 'fuckin': 1165, 'after': 69, 'they': 3223, 'hard': 1331, 'an': 125, 'earthquake': 869, 'nepal': 2224, 'still': 3052, 'reminds': 2682, 'do': 801, 'everyday': 963, 'wanna': 3470, 'time': 3253, 'where': 3539, 'shirt': 2859, 'cool': 619, 'course': 637, 'youtube': 3665, 'fucking': 1166, 'well': 3522, 'dudes': 850, 'faded': 1013, 'ah': 77, 'good': 1244, 'old': 2313, 'million': 2105, 'anymore': 153, 'remeber': 2678, 'ol': 2312, 'day': 711, 'werent': 3527, 'about': 7, 'butt': 414, 'hero': 1370, 'born': 363, 'wrong': 3612, 'generation': 1205, 'theyre': 3224, 'over': 2356, 'rockin': 2744, 'keep': 1801, 'going': 1238, 'likeeee': 1906, 'lt': 1983, 'robot': 2741, 'your': 3659, 'songs': 2970, 'go': 1232, 'bi': 305, 'views': 3428, 'who': 3547, 'name': 2208, 'one': 2324, 'why': 3553, 'stop': 3054, 'their': 3208, 'career': 439, 'sooooo': 2979, 'many': 2031, 'downs': 825, 'tension': 3183, 'such': 3102, 'epic': 939, 'track': 3283, 'likkee': 1909, 'give': 1224, 'support': 3121, 'fight': 1073, 'th': 3190, 'amendment': 116, 'right': 2721, 'privacy': 2523, 'home': 1402, 'business': 411, 'nsa': 2280, 'spy': 3026, 'americans': 119, 'un': 3345, 'patriot': 2387, 'act': 29, 'renewal': 2689, 'rand': 2614, 'paul': 2388, 'spent': 3005, 'hour': 1425, 'senate': 2819, 'floor': 1101, 'protest': 2547, 'filibuster': 1077, 'constitution': 608, 'nation': 2212, 'found': 1128, 'join': 1765, 'at': 197, 'dot': 820, 'com': 557, 'spread': 3024, 'word': 3592, 'we': 3510, 'someone': 2957, 'cares': 440, 'email': 901, 'senators': 2821, 'congress': 601, 'men': 2078, 'woman': 3583, 'tell': 3180, 'them': 3209, 'news': 2234, 'too': 3270, 'senator': 2820, 'until': 3367, 'morning': 2161, 'mindblowing': 2113, 'dancesuperbbb': 700, 'anyone': 154, 'think': 3228, 'theme': 3210, 'bit': 325, 'insult': 1693, 'later': 1858, 'never': 2232, 'get': 1209, 'use': 3384, 'all': 94, 'around': 180, 'strong': 3066, 'message': 2085, 'every': 961, 'ive': 1735, 'heard': 1354, 'past': 2384, 'fast': 1035, 'summer': 3110, 'blow': 343, 'mind': 2112, 'shufflin': 2880, 'today': 3261, 'everybody': 962, 'let': 1885, 'billion': 316, 'soooooooooooooooooooooooooooooooooooooooooooooooooo': 2983, 'subscriber': 3086, 'swear': 3138, 'hear': 1353, 'even': 956, 'doe': 803, 'come': 558, 'here': 1367, 'because': 270, 'vanoss': 3398, 'beautiful': 268, 'feel': 1055, 'gangnam': 1192, 'style': 3075, 'copy': 624, 'from': 1156, 'damn': 695, 'everywhere': 968, 'fu': 1162, 'cking': 521, 'awesom': 219, 'how': 1429, 'put': 2564, 'picture': 2431, 'image': 1644, 'thingie': 3226, 'okay': 2311, 'should': 2873, 'cover': 639, 'youre': 3660, 'exists': 982, 'insane': 1676, 'listen': 1921, 'lol': 1943, 'shrek': 2878, 'gay': 1200, 'robo': 2740, 'baby': 236, 'seriously': 2828, 'did': 764, 'beat': 263, 'insanely': 1677, 'holy': 1401, 'literally': 1926, 'housee': 1428, 'tonight': 3267, 'memories': 2075, 'lovee': 1972, 'more': 2159, 'than': 3193, 'nikki': 2249, 'minaj': 2111, 'anaconda': 127, 'saw': 2782, 'jesses': 1755, 'sorry': 2986, 'spell': 3003, 'peace': 2397, 'cant': 430, 'dang': 703, 'dat': 707, 'little': 1927, 'kid': 1807, 'gat': 1199, 'loves': 1977, 'gotta': 1262, 'blast': 335, 'bone': 351, 'minute': 2119, 'nearly': 2217, 'dose': 819, 'off': 2299, 'sleep': 2926, 'next': 2235, 'hot': 1421, 'foot': 1114, 'shake': 2840, 'golden': 1240, 'black': 333, 'take': 3155, 'look': 1948, 'cooooooooooooolllllllllll': 622, 'oh': 2307, 'shit': 2861, 'was': 3479, 'uploaded': 3376, 'birthday': 323, 'finally': 1081, 'isnt': 1719, 'curse': 679, 'maylaysia': 2049, 'airline': 84, 'thought': 3237, 'fefefefefegelein': 1058, 'brought': 395, 'shuffling': 2881, 'thing': 3225, 'world': 3595, 'these': 3222, 'death': 720, 'metal': 2086, 'way': 3507, 'wish': 3573, 'could': 628, 'most': 2164, 'guess': 1294, 'show': 2876, 'ur': 3380, 'watchin': 3487, 'laughing': 1863, 'ass': 193, 'see': 2811, 'ask': 190, 'myself': 2203, 'seem': 2812, 'though': 3236, 'might': 2097, 'yea': 3638, 'wait': 3461, 'kidding': 1808, 'due': 851, 'duel': 852, 'companion': 574, 'front': 1157, 'whole': 3548, 'spongebob': 3012, 'yesterday': 3646, 'goonrock': 1251, 'hate': 1339, 'laura': 1865, 'subscribe': 3082, 'channel': 472, 'da': 689, 'whats': 3534, 'jacket': 1737, 'sleeve': 2927, 'sleeveless': 2928, 'arm': 179, 'youtub': 3664, 'steps': 3045, 'head': 1349, 'ago': 74, 'flies': 1096, 'commentsoh': 569, 'lanta': 1854, 'df': 759, 'socool': 2949, 'coolwhy': 621, 'havent': 1345, 'before': 274, 'brah': 375, 'illness': 1637, 'spreading': 3025, 'war': 3473, 'almost': 99, 'hater': 1340, 'en': 914, 'gooooood': 1253, 'likeeeeeeeee': 1907, 'comment': 566, 'playlist': 2453, 'share': 2851, 'thoughts': 3238, 'plzzzzzzz': 2477, 'plzzzzzzzzzzzzzzzzzzzzzzzzzzzzzzz': 2478, 'collaborator': 548, 'ill': 1634, 'also': 105, 'upload': 3375, 'guys': 1302, 'lmfaois': 1934, 'reunion': 2708, 'june': 1776, 'expo': 991, 'idaho': 1617, 'garden': 1196, 'performe': 2410, 'live': 1928, 'press': 2516, 'conference': 593, 'answer': 148, 'question': 2571, 'publishing': 2556, 'believe': 283, 'hope': 1412, 'true': 3309, 'fan': 1025, 'yes': 3645, 'free': 1141, 'iiiiiiiiiii': 1631, 'unlike': 3362, 'brooooo': 392, 'youtubem': 3681, 'whos': 3551, 'please': 2462, 'pro': 2524, 'plays': 2454, 'month': 2156, 'or': 2340, 'are': 175, 'watching': 3488, 'kill': 1812, 'youtubefb': 3675, 'drop': 843, 'outs': 2354, 'knew': 1824, 'as': 186, 'friends': 1152, 'decided': 725, 'no': 2256, 'id': 1616, 'card': 435, 'certification': 459, 'prove': 2549, 'educated': 882, 'clean': 528, 'criminal': 660, 'record': 2656, 'talented': 3158, 'person': 2416, 'work': 3593, 'any': 151, 'entertainment': 933, 'field': 1071, 'worldwide': 3597, 'rich': 2717, 'entertainers': 932, 'by': 418, 'consolidating': 607, 'actors': 33, 'actresses': 34, 'singers': 2899, 'profits': 2534, 'youtubeי': 3687, 'thank': 3194, 'melhor': 2071, 'vídeo': 3456, 'se': 2799, 'inscreva': 1679, 'meu': 2088, 'canal': 427, 'por': 2490, 'favor': 1041, 'obrigado': 2290, 'mejor': 2069, 'si': 2884, 'suscriba': 3131, 'mi': 2091, 'gracias': 1266, 'meilleur': 2068, 'vidéo': 3424, 'vous': 3453, 'abonner': 6, 'ma': 2004, 'chaîne': 485, 'il': 1633, 'plaît': 2456, 'merci': 2080, 'chanell': 468, 'sub': 3077, 'thats': 3205, 'now': 2277, 'leave': 1876, 'channelthanks': 475, 'remixer': 2685, 'producer': 2530, 'help': 1362, 'sure': 3125, 'those': 3233, 'then': 3212, 'melbourne': 2070, 'suscribe': 3132, 'bore': 360, 'try': 3315, 'youtubea': 3666, 'reason': 2648, 'hit': 1393, 'agree': 75, 'end': 918, 'night': 2246, 'thx': 3248, 'big': 307, 'bang': 245, 'happen': 1325, 'been': 273, 'spooked': 3015, 'spookinati': 3016, 'unspooked': 3364, 'tomorrow': 3266, 'joking': 1768, 'hurt': 1606, 'phone': 2425, 'lmfaovevo': 1935, 'chance': 466, 'appreciate': 169, 'cheers': 491, 'everydayimvaping': 964, 'tried': 3301, 'supermariologan': 3117, 'thot': 3234, 'dude': 849, 'jam': 1742, 'subscribers': 3087, 'los': 1961, 'invito': 1711, 'subscribirse': 3091, 'youtubeopponents': 3682, 'mm': 2132, 'sky': 2919, 'dive': 793, 'goal': 1233, 'trust': 3313, 'doctor': 802, 'httpsmfreemyappscomshareurlb': 1464, 'subscribesoon': 3090, 'nut': 2286, 'shell': 2856, 'club': 538, 'skip': 2916, 'close': 534, 'eye': 1000, 'advertisements': 57, 'christianity': 513, 'arguements': 177, 'other': 2345, 'religious': 2677, 'console': 606, 'pcmasterace': 2394, 'trolls': 3307, 'quothow': 2589, 'online': 2327, 'earth': 868, 'complaints': 580, 'pewdiepie': 2422, 'fangirls': 1027, 'minecraft': 2116, 'scrub': 2798, 'rmontageparodies': 2731, 'become': 271, 'hello': 1361, 'russia': 2760, 'wont': 3587, 'disappointed': 778, 'kinglothedancer': 1818, 'naive': 2206, 'idiot': 1620, 'respect': 2700, 'fulfil': 1169, 'drama': 829, 'fee': 1052, 'mgtow': 2090, 'chose': 509, 'which': 3540, 'information': 1672, 'caution': 448, 'enjoy': 922, 'disposable': 790, 'provider': 2550, 'utility': 3391, 'plea': 2457, 'game': 1182, 'som': 2953, 'tip': 3256, 'contact': 612, 'kik': 1811, 'skype': 2922, 'pander': 2367, 'sandernicolaysen': 2773, 'kashoo': 1790, 'gaming': 1188, 'youtubeالإعلانات': 3688, 'لل': 3701, 'attention': 199, 'youtubehbbhhhgh': 3676, 'subscrib': 3081, 'youtubehjalp': 3677, 'youtubeqq': 3684, 'httpwwwgofundmecomhelpmypitbull': 1567, 'donate': 814, 'pitbull': 2440, 'dollar': 809, 'vet': 3409, 'dear': 719, 'friend': 1151, 'glad': 1227, 'virucide': 3437, 'tweet': 3332, 'amp': 122, 'follow': 1107, 'twitter': 3335, 'therealterrell': 3216, 'couple': 636, 'exceptions': 977, 'youtubepl': 3683, 'youtubelo': 3680, 'yo': 3650, 'dj': 798, 'feelz': 1057, 'chanel': 467, 'vids': 3422, 'white': 3544, 'extinct': 996, 'search': 2802, 'quotwhite': 2606, 'genocidequot': 1206, 'what': 3532, 'fricking': 1150, 'beast': 262, 'anywon': 158, 'herd': 1366, 'mee': 2062, 'rollin': 2748, 'woke': 3582, 'new': 2233, 'buggti': 403, 'nuketown': 2282, 'rap': 2619, 'shoot': 2867, 'quick': 2572, 'scoping': 2795, 'training': 3288, 'faze': 1045, 'adoult': 51, 'freind': 1144, 'sang': 2774, 'freinds': 1145, 'house': 1427, 'hi': 1377, 'app': 162, 'solve': 2952, 'partydrunk': 2377, 'problem': 2527, 'httpsplaygooglecomstoreappsdetailsidvnibitapplockeramphlen': 1469, 'youtubeit': 3678, 'bad': 239, 'beatboxing': 264, 'lexis': 1889, 'band': 244, 'own': 2359, 'soon': 2977, 'lot': 1965, 'click': 531, 'gt': 1281, 'ummm': 3343, 'sup': 3113, 'gus': 1299, 'thanks': 3197, 'jaylan': 1746, 'wanted': 3472, 'yall': 3634, 'would': 3602, 'great': 1271, 'yetbut': 3648, 'subs': 3080, 'youtubejjiwajwkajajqjaubkm': 3679, 'wtf': 3613, 'youtu': 3663, 'dope': 817, 'mean': 2052, 'rapper': 2625, 'nigger': 2245, 'fools': 1113, 'looking': 1950, 'wood': 3588, 'pile': 2435, 'hmm': 1396, 'bout': 367, 'pie': 2432, 'ladies': 1843, 'hahaa': 1311, 'tightttt': 3252, 'quot': 2577, 'aint': 82, 'demo': 741, 'manquot': 2030, 'stuff': 3071, 'slappers': 2924, 'slapper': 2923, 'banger': 246, 'link': 1916, 'below': 288, 'peep': 2400, 'httpssoundcloudcomroccsteadywaveemojiprodbynippylongbottomcyberpunk': 1478, 'niggas': 2244, 'quotcereal': 2578, 'knocks': 1825, 'babyquot': 237, 'quotswagquot': 2600, 'stupid': 3072, 'tuto': 3328, 'sign': 2886, 'anything': 155, 'usually': 3390, 'abomination': 5, 'lights': 1898, 'paypal': 2391, 'giveaway': 1225, 'enter': 929, 'hood': 1408, 'doh': 807, 'flixter': 1099, 'nossnevs': 2269, 'nezo': 2236, 'ed': 877, 'likeampshare': 1901, 'page': 2360, 'facebook': 1006, 'british': 389, 'youtuber': 3685, 'weekly': 3518, 'thanksjoyce': 3198, 'promos': 2539, 'plz': 2474, 'bady': 240, 'yust': 3693, 'hahahahah': 1314, 'real': 2642, 'computerbased': 586, 'industry': 1670, 'rage': 2612, 'only': 2328, 'quoton': 2596, 'rocks': 2746, 'incquot': 1664, 'fill': 1078, 'survey': 3128, 'httpwwwprizerebelcomindexphpr': 1578, 'happy': 1329, 'ooooo': 2330, 'shuffllllllllllllllllllllllinnnnn': 2882, 'learn': 1874, 'sound': 2987, 'looooooooove': 1955, 'videos': 3418, 'loon': 1952, 'hilarious': 1383, 'meaning': 2053, 'thumb': 3243, 'piss': 2439, 'water': 3502, 'toilet': 3263, 'doesnt': 805, 'noise': 2259, 'louis': 1968, 'saving': 2780, 'generate': 1204, 'leads': 1871, 'auto': 209, 'pilot': 2436, 'httpwwwmyleadergatecommoretraffic': 1576, 'httpwwwbillboardcomarticlescolumnspopshopfanarmyfaceoffround': 1551, 'vote': 3449, 'sones': 2963, 'pleasewere': 2464, 'against': 72, 'vipsplease': 3433, 'gtlt': 1288, 'abusedmistreated': 13, 'animal': 138, 'fund': 1172, 'pay': 2390, 'billsand': 320, 'find': 1083, 'place': 2442, 'extra': 997, 'emphasis': 910, 'disabled': 776, 'otherwise': 2347, 'organization': 2343, 'httpwwwgofundmecomangelsnwingz': 1562, 'httppsnbosscomreftggppvl': 1447, 'trailer': 3286, 'httpbelievemefilmcomhlrhhqbuvb': 1434, 'httpssoundcloudcomnereboycallofthelostproducebyatlastatlasrapperjkork': 1476, 'pleaaaase': 2458, 'instagram': 1686, 'account': 22, 'httpinstagramcomcyrineghorbel': 1442, 'visit': 3439, 'pleaase': 2459, 'httpwwwbarnesandnoblecomsbdpcsrftokenitixecnkcosoqkemgjluuwvnsxsoampsortddampsizeampcsrftokeniyecnrwpnytnouamhvmflutgglampdrefampkeywordbdpampstoreebook': 1550, 'httpwwwtwitchtvdaconnormc': 1586, 'glamour': 1228, 'beauty': 269, 'sing': 2897, 'random': 2615, 'fell': 1059, 'mom': 2144, 'say': 2783, 'christmas': 515, 'kitten': 1820, 'comments': 568, 'httpswwwfacebookcomphotophpfbidampldac': 1507, 'httpswwwfacebookcomphotophpvampsetvbamptypeamptheater': 1509, 'httpssoundcloudcomartady': 1473, 'feedback': 1054, 'break': 382, 'katie': 1792, 'downloads': 824, 'small': 2935, 'single': 2901, 'once': 2322, 'shikas': 2858, 'min': 2110, 'anime': 142, 'pretty': 2517, 'regret': 2668, 'httpwwwrtbfbetvemissiondetailthevoicebelgiquetouteslesauditionsauditiondetailemissionidampid': 1580, 'voice': 3447, 'liked': 1904, 'win': 3564, 'audition': 203, 'score': 2796, 'katy': 1794, 'perry': 2414, 'sit': 2907, 'face': 1005, 'ok': 2310, 'call': 420, 'erection': 942, 'miley': 2101, 'cyrus': 687, 'httpwwwgooglerourlsatamprctjampqampesrcsampsourcewebampcdampvedcbqfjaaampurlhttpaffenwikipediaorgfwikiflistofmostviewedyoutubevideosampeioqyudwclyqoyogoawampusgafqjcngkmidplalkuvkoekvgdttjvlqampsigonqzzadqcmnbenmlgaampbvmbvdbgqampcadrja': 1572, 'httpwwwamazoncomknightdawncurseddanielnebookdpbmppqhrirefsrsdigitaltextampbieutfampbqidampbsrampbkeywordsknightamptagwattpad': 1547, 'sponsor': 3013, 'httpwwwbubblewscomaccountsheilcen': 1553, 'edm': 881, 'mix': 2128, 'httpssoundcloudcomsoundhaseedmhousemix': 1479, 'hiya': 1395, 'videoxx': 3420, 'maroon': 2038, 'late': 1857, 'nd': 2215, 'wwwyoutube': 3624, 'comwatchvtqfuau': 589, 'httpwwwgofundmecomrjanimalcare': 1570, 'httpwwwmediafirecomdownloadyvovhafsvqzzqovideorar': 1575, 'download': 823, 'httpwwwebaycomitmsspagenamestrkmeselxitamptrksidpml': 1557, 'ltscriptgtdocumentwritelta': 1984, 'targetself': 3165, 'href': 1431, 'httproverebaycomrovericepffamppubamptoolidampcampidampcustomidbogdangrigoreampipnpsmainampicepvectoridampkwidampmtidampkwlggtcheck': 1448, 'arive': 178, 'ebayltagtltimg': 874, 'styletextdecorationnoneborderpaddingmargin': 3076, 'src': 3028, 'httproverebaycomroverimpffamppubamptoolidampcampidampcustomidbogdangrigoreampmptmathfloormathrandomgtltscriptgtltnoscriptgtlta': 1450, 'httproverebaycomroverimpffamppubamptoolidampcampidampcustomidbogdangrigoreampmptcachebuster': 1449, 'gtltnoscriptgt': 1289, 'votekatyperry': 3450, 'mtv': 2179, 'vma': 3444, 'lyric': 1999, 'lead': 1869, 'httponmtvcomutkx': 1445, 'httpswwwfacebookcompagesdaadadddaddadacdddaddadddbdaddmusic': 1501, 'marian': 2032, 'singer': 2898, 'venezuela': 3403, 'boygirl': 372, 'cubik': 672, 'cause': 447, 'play': 2449, 'pop': 2485, 'poprock': 2486, 'xoxo': 3626, 'ps': 2551, 'haha': 1310, 'remind': 2681, 'tigerlike': 3250, 'spirit': 3007, 'south': 2989, 'american': 118, 'jungle': 1777, 'matter': 2044, 'african': 66, 'elephant': 894, 'bengal': 291, 'tiger': 3249, 'same': 2770, 'httpgagcomgagaavpwj': 1438, 'ima': 1643, 'notice': 2275, 'mixtape': 2129, 'datpiffcommixtapesdetailphpid': 709, 'clip': 533, 'airplane': 85, 'crashed': 648, 'land': 1849, 'far': 1031, 'away': 217, 'she': 2853, 'survive': 3130, 'pet': 2420, 'tiget': 3251, 'kitty': 1821, 'purpy': 2560, 'mai': 2017, 'nguyen': 2237, 'without': 3578, 'httpukeonlinecomeolimagesentiresiteregkatymkupmhjpg': 1543, 'nokia': 2260, 'plane': 2444, 'crash': 647, 'httpwwwbubblewscomnewsvpssolutions': 1555, 'treu': 3299, 'detective': 757, 'alternate': 106, 'httpwwwfunnyordiecomvideosdfbtruedefectives': 1560, 'makeup': 2022, 'transformation': 3290, 'integrated': 1695, 'lookalike': 1949, 'feature': 1051, 'available': 212, 'ver': 3404, 'install': 1688, 'update': 3371, 'version': 3407, 'httpsplaygooglecomstoreappsdetailsidcomyourelinkmakeuptransformation': 1468, 'google': 1249, 'purry': 2561, 'perfect': 2407, 'boa': 346, 'constrictor': 609, 'squeeze': 3027, 'pause': 2389, 'movie': 2173, 'hid': 1379, 're': 2635, 'twin': 3333, 'melody': 2072, 'coverswe': 641, 'second': 2805, 'thanksmercigraciasdankeobrigadograzie': 3199, 'xx': 3628, 'dayd': 712, 'niceesabrosura': 2239, 'viva': 3443, 'httpssoundcloudcomyerkielinmigranteyerkimybmoveyourbody': 1480, 'growtopia': 1278, 'story': 3057, 'httpshhortcomarhupwehab': 1454, 'yay': 3635, 'commenter': 567, 'bitcoins': 328, 'fhenqxtwqmvptayiejnealahzvem': 1068, 'httpshhortcomargixctkd': 1453, 'empower': 912, 'gonna': 1242, 'roar': 2735, 'drink': 838, 'bleach': 336, 'shes': 2857, 'hardcore': 1332, 'httpshhortcomarjtufxhxc': 1455, 'weird': 3520, 'write': 3608, 'gorlingoltz': 1260, 'syndrome': 3150, 'community': 573, 'alone': 101, 'httpswwwfacebookcomgorlingoltzsupport': 1492, 'opinion': 2336, 'hair': 1315, 'blond': 341, 'amaze': 110, 'eyes': 1002, 'son': 2962, 'grave': 1270, 'httpwwwgofundmecombishopsgravemarker': 1563, 'fb': 1046, 'roarrrr': 2737, 'megt': 2066, 'httpstwittercomfllowshoutouts': 1481, 'finish': 1084, 'dissertation': 791, 'laugh': 1861, 'roaaarrr': 2733, 'whore': 3550, 'httpwwwgofundmecomjormis': 1568, 'roaaaaarrrrrr': 2732, 'guarantee': 1291, 'stand': 3031, 'fear': 1050, 'itunes': 1732, 'code': 544, 'httpshhortcomarlaviqub': 1456, 'inspirational': 1684, 'achieve': 24, 'history': 1392, 'couldnt': 629, 'greatly': 1272, 'thankful': 3195, 'ty': 3337, 'sell': 2818, 'jack': 1736, 'daniels': 704, 'case': 442, 'iphone': 1713, 'dollars': 810, 'ebay': 873, 'httpsmfacebookcomstoryphpstoryfbidampidamprefstream': 1462, 'gf': 1211, 'drunk': 847, 'shot': 2871, 'half': 1319, 'sec': 2804, 'boob': 353, 'magically': 2012, 'suddenly': 3106, 'practically': 2508, 'vanishes': 3397, 'doubt': 821, 'songfeel': 2967, 'job': 1760, 'mother': 2165, 'sweet': 3140, 'natural': 2213, 'httpwwwaaasorgtechivoteview': 1546, 'sheldon': 2855, 'stars': 3034, 'advance': 54, 'conqueror': 604, 'haki': 1318, 'oportunity': 2337, 'congrasulation': 599, 'httpenprothomalocomsportnewszimbabweateamdueindhakawednesday': 1436, 'bilion': 313, 'poeple': 2479, 'dumb': 854, 'disliked': 786, 'sucks': 3104, 'concert': 591, 'contest': 614, 'loose': 1959, 'httpswwwfacebookcomexagdlphotosatypeamptheater': 1490, 'inaccurate': 1657, 'rip': 2727, 'artist': 184, 'admire': 48, 'creativity': 653, 'nonsense': 2264, 'mobile': 2135, 'tech': 3176, 'review': 2710, 'comparison': 577, 'plus': 2473, 'animals': 139, 'channelbecause': 473, 'film': 1079, 'xoxoleah': 3627, 'maybe': 2047, 'folks': 1106, 'boooobs': 357, 'understand': 3353, 'hat': 1338, 'confuse': 598, 'katys': 1799, 'october': 2295, 'soo': 2976, 'looooooooooooooooooooovvvvvvvvveeeeeeeeeeee': 1954, 'ittttttttttttt': 1731, 'telephone': 3179, 'randomly': 2616, 'reply': 2694, 'jello': 1750, 'strawberry': 3060, 'smiley': 2940, 'tshirtof': 3318, 'wear': 3512, 'expression': 995, 'important': 1649, 'statistic': 3039, 'measure': 2055, 'warmth': 3476, 'tshirts': 3319, 'happiness': 1328, 'buy': 416, 'wwwteespringcomsmiley': 3621, 'amazing': 112, 'gold': 1239, 'brings': 387, 'splash': 3009, 'nuts': 2287, 'stole': 3053, 'idea': 1618, 'comic': 564, 'book': 354, 'yet': 3647, 'catchy': 445, 'garbage': 1195, 'rihanna': 2724, 'httpswwwreverbnationcomslicknicksongs': 1523, 'firework': 1088, 'overplayed': 2358, 'hell': 1360, 'radio': 2611, 'folly': 1109, 'greatthis': 1273, 'awesum': 224, 'jus': 1779, 'luv': 1994, 'acoustic': 26, 'imagine': 1645, 'jims': 1758, 'ear': 865, 'selfie': 2817, 'alert': 90, 'soundsofsunday': 2988, 'vena': 3402, 'trojmiastoplvenabustaxiohtml': 3305, 'competition': 578, 'meet': 2063, 'idols': 1623, 'pic': 2429, 'ig': 1626, 'httpinstagramcompsmzdivopxb': 1443, 'katty': 1793, 'videoes': 3416, 'girls': 1222, 'httpsviralangelscomuserdaaacwk': 1485, 'since': 2896, 'feminist': 1063, 'champion': 464, 'reinforce': 2671, 'stereotype': 3046, 'girly': 1223, 'painting': 2363, 'nail': 2205, 'probably': 2526, 'wouldnt': 3603, 'httpthepiratebaysetorrenttheexpendablesdvdscrxviddingo': 1537, 'httpthepiratebaysetorrenttheexpendablesdvdscrleakedcleanxvidmprarbg': 1536, 'interested': 1700, 'internet': 1702, 'wwwswagbuckscomrefernonturtle': 3620, 'note': 2272, 'becomes': 272, 'clear': 530, 'complete': 581, 'utter': 3392, 'may': 2046, 'god': 1235, 'cleanse': 529, 'idiocy': 1619, 'humankind': 1603, 'cup': 674, 'reaction': 2637, 'shout': 2875, 'type': 3339, 'katycat': 1796, 'httpsmfacebookcomprofilephpid': 1461, 'least': 1875, 'rid': 2720, 'completely': 582, 'useless': 3386, 'sometimes': 2960, 'mute': 2199, 'volume': 3448, 'incredible': 1666, 'extremely': 999, 'tits': 3259, 'gtattention': 1283, 'katycats': 1797, 'noms': 2261, 'ema': 900, 'daily': 692, 'tv': 3330, 'mtvema': 2180, 'comvote': 588, 'delete': 737, 'space': 2990, 'bigboss': 308, 'broken': 391, 'horn': 1417, 'giftcard': 1215, 'httpshhortcomaroocnjqub': 1457, 'freakin': 1138, 'monkey': 2150, 'sheep': 2854, 'period': 2412, 'terrible': 3185, 'mine': 2115, 'invent': 1705, 'dick': 762, 'formula': 1123, 'inch': 1660, 'research': 2698, 'topic': 3273, 'during': 858, 'secret': 2807, 'knowledge': 1827, 'penis': 2402, 'enlargement': 925, 'apply': 167, 'absolutely': 10, 'his': 1390, 'result': 2704, 'few': 1066, 'therefore': 3218, 'issue': 1720, 'order': 2341, 'promote': 2540, 'info': 1671, 'httpspayhipcombotib': 1465, 'symbolic': 3147, 'begin': 275, 'scar': 2789, 'leopard': 1883, 'bikini': 311, 'three': 3240, 'enough': 928, 'skinny': 2915, 'size': 2911, 'bisexual': 324, 'sweat': 3139, 'freak': 1137, 'nervous': 2226, 'austin': 205, 'mahones': 2016, 'httpswwwfacebookcompagesnaileynicoolrefhl': 1506, 'balls': 243, 'green': 1274, 'spotted': 3019, 'irritate': 1716, 'passionate': 2382, 'sex': 2834, 'giant': 1213, 'push': 2562, 'ambition': 114, 'fantastic': 1029, 'aiiima': 81, 'plzzz': 2476, 'httpswwwfacebookcompagescccblcebalmacebbcebt': 1500, 'httpsvimeocom': 1484, 'arent': 176, 'beaties': 265, 'httpswwwfacebookcompageshiphopexpress': 1503, 'bella': 285, 'diagnose': 761, 'wobblers': 3581, 'afford': 63, 'mri': 2175, 'dog': 806, 'special': 3001, 'member': 2073, 'family': 1022, 'lose': 1962, 'httpwwwgofundmecomfekgw': 1565, 'httpswwwfacebookcompageskomediburdagel': 1504, 'httpswwwfacebookcomprofilephpid': 1510, 'httpwwwgoogleadservicescompageadaclksalampaicsyoebwxvpcfldabgpydgbjdpmihmhuwbgjxbvsbeaegknljvcfbyhfbyiofgicahkabskgwpiaqkpahkmchbpmqambyapbbkoekwfpkullxqimgohvzeefmqrgtullbufszgnhbkjhbxmwtsdxhwpdxkazsjosiecvjjmbnswyijecqvhxlbdzstubofaloyinwmroocppsauatzguickmliduwmabzqvenetrfazorltbbvzyvxihbnqnvhmrbgesibgggbgkabjeycgampnumampcidggsmmatifsmvpicsampsigaodofcsehpopjyrbsxheenqampclientcapubampadurlhttpblogparalerochallengepentruafiliatiaplicalanoileprogramedeafilieresifiibusinessboomerulluniiampnmampmbampbgaqoucqvqiaaabpugaaacsqarvgoqwqxjmpuyvkosfkqbvkfzejhncovckkxcbafzzpajibxwbvvqjrdgzqrinlwgabybxlfwmadkrjgzkryizwqdihxggetnddabfltfkbmbffcjixnthwbwkjnonlhdeveagphoewxogbnuibgtrkgnacqoibgmzgafnsclsariqjhqrtdwvbiykiyyublotdexvklnveadzzflxryqkewsuredljwgkflqqaldiwaznuysgqjnrdyvucklplzonyisdkcebxdbhjzdwlbsjbigxmdpkrhvxinqliwqbahszxmjhwvwrkpxfoeks': 1571, 'body': 349, 'rapid': 2622, 'httpsplaygooglecomstoreappsdetailsidcomrapidfacebookmagicdroid': 1467, 'sensejust': 2825, 'videoi': 3417, 'stuck': 3069, 'island': 1718, 'fit': 1092, 'situationbut': 2910, 'nvmthe': 2288, 'mighty': 2098, 'parry': 2374, 'total': 3275, 'httpswwwpaidvertscomreftomuciux': 1522, 'esyest': 948, 'team': 3174, 'official': 2301, 'httpyoutubecevxzvsjlk': 1597, 'gift': 1214, 'httpshhortcomarxjgbrne': 1458, 'belly': 287, 'itsooooo': 1728, 'add': 40, 'songstill': 2972, 'sooo': 2978, 'httpsplusgooglecompostsgjvinpuemo': 1471, 'addict': 42, 'hook': 1409, 'quiet': 2575, 'sooooooooooooong': 2980, 'tattoo': 3167, 'tricep': 3300, 'mv': 2201, 'worry': 3599, 'run': 2759, 'eat': 872, 'rekt': 2672, 'mum': 2185, 'nite': 2254, 'cuz': 684, 'haterz': 1342, 'lik': 1899, 'dis': 775, 'cri': 658, 'evertim': 960, 'sponswer': 3014, 'robox': 2742, 'vidz': 3423, 'httpswwwindiegogocomprojectsgimmedemmoneyzrobloxxhome': 1516, 'title': 3258, 'lyrics': 2003, 'wonder': 3585, 'httpswwwindiegogocomprojectshelpstopmypovertycyberpanhandleingxhome': 1517, 'horrible': 1418, 'cringeworhty': 661, 'fashion': 1033, 'care': 438, 'blog': 340, 'sinar': 2895, 'jahitan': 1740, 'collection': 549, 'tqvm': 3282, 'appreciated': 170, 'blue': 344, 'uranus': 3381, 'bless': 337, 'america': 117, 'belarus': 281, 'freyacumqueen': 1149, 'cmon': 540, 'subscriberscome': 3088, 'another': 147, 'emas': 902, 'httptvmtvemacomartistskatyperryixh': 1541, 'honest': 1405, 'mediocre': 2060, 'nothing': 2273, 'unique': 3359, 'memorable': 2074, 'billie': 314, 'jean': 1749, 'democracy': 742, 'express': 994, 'lie': 1891, 'buzz': 417, 'cece': 452, 'deadme': 716, 'angel': 135, 'project': 2536, 'streamer': 3062, 'spotify': 3018, 'allows': 97, 'file': 1076, 'offline': 2304, 'opening': 2332, 'beta': 297, 'httpsmegaconzehvjzkyabgkgiwphzohwaeuesrwnegqglabcorwwfxhao': 1459, 'male': 2023, 'profile': 2533, 'coolest': 620, 'sextoy': 2835, 'made': 2010, 'httpsmfacebookcomdreaddisrefmnotif': 1460, 'iftfbpagefaninviteampactorid': 1625, 'racist': 2609, 'borderland': 359, 'presequel': 2515, 'poster': 2498, 'httpswwwfacebookcomnyghdramafestphotosatypeamptheater': 1498, 'tonighttoday': 3268, 'succumbs': 3101, 'hahaha': 1313, 'katyperryvevo': 1798, 'axeljonssons': 227, 'does': 804, 'honestly': 1406, 'brave': 379, 'thisand': 3231, 'sprayon': 3022, 'tan': 3160, 'hairstylist': 1317, 'cameraman': 424, 'illuminati': 1638, 'confirmed': 597, 'guitar': 1296, 'illegal': 1635, 'goodlooking': 1246, 'babe': 235, 'forget': 1119, 'choice': 505, 'happening': 1326, 'fool': 1111, 'foolish': 1112, 'arrogant': 181, 'obviously': 2293, 'garner': 1198, 'young': 3656, 'number': 2283, 'piece': 2433, 'trash': 3294, 'father': 1036, 'turn': 3326, 'into': 1704, 'left': 1879, 'birtgday': 322, 'possible': 2494, 'gtgtjust': 1287, 'open': 2331, 'different': 770, 'tabs': 3154, 'browser': 396, 'gtgtdont': 1285, 'full': 1170, 'hand': 1323, 'wasting': 3484, 'color': 552, 'characterize': 479, 'release': 2675, 'midnight': 2096, 'uk': 3340, 'celebrate': 454, 'realize': 2643, 'verse': 3406, 'exact': 972, 'ho': 1398, 'lumineers': 1991, 'httpgiphycomgifsbirthdayflowershappygwjyuqiaxkaqxsfullscreen': 1439, 'kind': 1815, 'spam': 2992, 'advertising': 59, 'sparks': 2998, 'fly': 1104, 'taylor': 3170, 'swift': 3141, 'encourage': 916, 'wisdom': 3572, 'wwwyouniqueproductscomjoannagordon': 3623, 'younique': 3657, 'joanna': 1759, 'gordon': 1257, 'wwwyouniqueproductscom': 3622, 'katheryns': 1791, 'katyand': 1795, 'sister': 2905, 'autotune': 210, 'tha': 3191, 'fack': 1011, 'nude': 2281, 'mayby': 2048, 'hooker': 1410, 'luckymusiqlive': 1989, 'talent': 3157, 'drum': 846, 'et': 949, 'watchvnopovzoiqamplistuultucdihsdeibyowwuq': 3494, 'famous': 1024, 'happens': 1327, 'kinda': 1816, 'herself': 1372, 'huh': 1600, 'tsu': 3320, 'social': 2947, 'medium': 2061, 'addfollow': 41, 'httptsucoroberts': 1540, 'relate': 2673, 'daughter': 710, 'cry': 669, 'depth': 747, 'government': 1264, 'dhg': 760, 'bunch': 407, 'nerdy': 2225, 'peach': 2399, 'absolute': 9, 'em': 899, 'hug': 1598, 'httpvimeocom': 1544, 'strength': 3064, 'httpminhatecacombrmaurospfilmesseriesdesenhosanimesmpetc': 1444, 'httpswwwfacebookcomantrobofficial': 1487, 'shakira': 2843, 'httphackfbaccountlivecomref': 1440, 'hack': 1307, 'describe': 749, 'skyburst': 2920, 'light': 1897, 'cancer': 428, 'umichael': 3342, 'age': 73, 'female': 1061, 'οh': 3700, 'vevo': 3410, 'justins': 1786, 'congrats': 600, 'applause': 165, 'httpssoundcloudcomjsuptfilsdusonfuckinghostile': 1475, 'httpswwwfacebookcommyfunnyriddles': 1496, 'httpswwwfacebookcomphotophpfbidampsetaamptypeamptheater': 1508, 'rather': 2631, 'propa': 2542, 'explicit': 990, 'gangsta': 1194, 'insted': 1691, 'damnnnnnnnn': 696, 'oo': 2329, 'grow': 1277, 'moment': 2145, 'youll': 3655, 'sad': 2763, 'cheer': 490, 'boring': 362, 'asinine': 189, 'coming': 565, 'teenage': 3178, 'perrys': 2415, 'divorce': 795, 'wave': 3504, 'shitty': 2863, 'successful': 3100, 'stick': 3050, 'silly': 2889, 'putty': 2565, 'wahoo': 3460, 'somehow': 2956, 'access': 18, 'middle': 2095, 'woods': 3589, 'comprehend': 584, 'explains': 989, 'high': 1380, 'count': 632, 'awful': 225, 'clue': 539, 'living': 1930, 'fairy': 1017, 'segue': 2813, 'ha': 1306, 'httpswwwfacebookcommarcossousafrefts': 1495, 'nature': 2214, 'tit': 3257, 'impress': 1652, 'roared': 2736, 'lion': 1918, 'youd': 3653, 'dede': 728, 'awesomeshe': 222, 'viewer': 3427, 'themselves': 3211, 'set': 2832, 'network': 2231, 'fbyou': 1048, 'register': 2666, 'difference': 769, 'paid': 2362, 'onedont': 2326, 'waste': 3482, 'httpswwwtsucoslema': 1528, 'wellcome': 3523, 'figure': 1075, 'dislike': 785, 'suppose': 3123, 'power': 2504, 'ballad': 242, 'something': 2958, 'uplift': 3374, 'motivate': 2167, 'however': 1430, 'final': 1080, 'chorus': 508, 'umph': 3344, 'instead': 1690, 'crescendo': 656, 'powerful': 2505, 'wavelength': 3506, 'fall': 1019, 'flat': 1095, 'am': 109, 'championand': 465, 'creator': 654, 'positive': 2493, 'blessing': 338, 'heal': 1351, 'create': 652, 'success': 3098, 'nowplaying': 2278, 'weekendmix': 3517, 'denis': 744, 'shmelev': 2865, 'alex': 91, 'serov': 2829, 'remix': 2684, 'wwwsmartfmnllivestreamhtml': 3619, 'artists': 185, 'httpwwwwattpadcomstoryshecanloveyougood': 1592, 'muchd': 2182, 'memorize': 2076, 'tend': 3181, 'fire': 1085, 'room': 2750, 'progressive': 2535, 'deep': 731, 'dubstep': 848, 'chillstep': 500, 'town': 3279, 'missouri': 2125, 'down': 822, 'critique': 663, 'gotten': 1263, 'promise': 2537, 'content': 613, 'satisfy': 2777, 'able': 3, 'advertise': 55, 'pester': 2419, 'gimme': 1216, 'site': 2908, 'httpwwwnetworkedblogscompcpwbrefpanorama': 1577, 'subscribed': 3083, 'httpswwwtsucotomeks': 1529, 'mah': 2014, 'duh': 853, 'youtubefacebook': 3674, 'lhudygirlamaya': 1890, 'kevin': 1803, 'hart': 1335, 'realkevinheart': 2644, 'don': 813, 'quality': 2569, 'anywhere': 157, 'possibly': 2496, 'httpsappsfacebookcommypollsutsitcompetitionfromuserlinkamprefidouxge': 1451, 'anand': 129, 'niketan': 2248, 'international': 1701, 'fredom': 1140, 'yours': 3661, 'poor': 2484, 'hii': 1382, 'dieroar': 768, 'floooooooooooooooooooop': 1100, 'grade': 1267, 'teacher': 3173, 'exactly': 973, 'curti': 680, 'httpswwwfacebookcomdemiilovatofasrefhl': 1488, 'httpswwwfacebookcompagesfrasessecretasrefhl': 1502, 'httpwwwermailpldolaczunnfyi': 1558, 'parody': 2373, 'wet': 3530, 'seal': 2800, 'model': 2137, 'username': 3387, 'destinyforever': 755, 'httpwwwwetsealcommodelsearchmodelsearchhtml': 1593, 'simply': 2893, 'customers': 681, 'us': 3382, 'youhttpswwwfacebookcomgreenleader': 3654, 'httpsbinboxiodnckmqtqjb': 1452, 'bil': 312, 'gs': 1280, 'soooooooooooooooooooooooooooooooooooooooo': 2982, 'xxx': 3630, 'décio': 863, 'cabelo': 419, 'decio': 726, 'years': 3642, 'homeless': 1403, 'alcoholic': 89, 'invisible': 1709, 'composer': 583, 'deciocabelo': 727, 'speak': 2999, 'except': 976, 'adele': 44, 'lile': 1911, 'modern': 2138, 'must': 2198, 'whenever': 3538, 'goosebump': 1255, 'quite': 2576, 'inspire': 1685, 'lovely': 1973, 'talk': 3159, 'receive': 2650, 'active': 31, 'pimpmyviews': 2437, 'iam': 1614, 'palastine': 2366, 'four': 1129, 'wheels': 3536, 'aslamu': 191, 'lykum': 1998, 'pakistan': 2364, 'eminem': 904, 'idol': 1622, 'españa': 943, 'mexico': 2089, 'latinoamerica': 1860, 'alright': 104, 'lady': 1844, 'john': 1763, 'hes': 1373, 'smoking': 2942, 'lyrically': 2001, 'hotter': 1423, 'example': 974, 'abuse': 12, 'husband': 1607, 'definitely': 732, 'wellif': 3525, 'die': 767, 'sayin': 2784, 'boyfriend': 371, 'charlie': 482, 'lost': 1964, 'httpswwwfacebookcomgroups': 1493, 'beats': 267, 'together': 3262, 'unstoppable': 3365, 'rape': 2620, 'cheating': 487, 'basically': 254, 'mirror': 2121, 'harry': 1334, 'potter': 2502, 'deathly': 721, 'hallows': 1321, 'either': 892, 'sirius': 2904, 'quoti': 2590, 'youquot': 3658, 'httpsyoutubeyfuygkrc': 1533, 'musicim': 2192, 'spamming': 2995, 'load': 1941, 'across': 28, 'hyuck': 1612, 'australia': 206, 'bewatching': 303, 'favourite': 1044, 'gorgeous': 1259, 'passion': 2381, 'dysfunctional': 862, 'insanity': 1678, 'noi': 2258, 'bieber': 306, 'youtubechcfcvzfzfbvzdr': 3669, 'ryhme': 2761, 'canibus': 429, 'quadrillion': 2568, 'especially': 944, 'category': 446, 'intelligent': 1698, 'rapped': 2624, 'forgot': 1121, 'spit': 3008, 'rymeluv': 2762, 'ya': 3631, 'linz': 1917, 'personally': 2417, 'abusive': 14, 'relationship': 2674, 'dad': 690, 'counts': 635, 'drug': 844, 'jail': 1741, 'od': 2296, 'plese': 2467, 'aye': 230, 'homies': 1404, 'cent': 457, 'line': 1914, 'feed': 1053, 'mampm': 2025, 'youtubebut': 3667, 'rhinnah': 2714, 'youtubers': 3686, 'read': 2638, 'boy': 370, 'musician': 2191, 'planet': 2445, 'retards': 2706, 'goot': 1256, 'afraid': 64, 'skit': 2917, 'vine': 3430, 'country': 634, 'round': 2755, 'computer': 585, 'tear': 3175, 'group': 1276, 'rihana': 2723, 'cheat': 486, 'megan': 2064, 'fox': 1131, 'hothot': 1422, 'justin': 1784, 'better': 299, 'medication': 2059, 'wited': 3574, 'alfred': 92, 'sadly': 2764, 'hog': 1399, 'swamp': 3137, 'disorder': 789, 'sassy': 2776, 'mouse': 2169, 'flame': 1094, 'cheetos': 492, 'samurman': 2772, 'oreo': 2342, 'near': 2216, 'eminems': 906, 'actual': 35, 'untitled': 3368, 'cold': 546, 'wind': 3565, 'welcome': 3521, 'elevator': 895, 'wtp': 3614, 'bottom': 366, 'apology': 160, 'toy': 3281, 'soldier': 2951, 'mosh': 2163, 'sense': 2824, 'dante': 705, 'called': 421, 'riled': 2725, 'listeningstill': 1925, 'pleasure': 2466, 'password': 2383, 'facebookpasshackblogspotcom': 1008, 'working': 3594, 'software': 2950, 'hacking': 1309, 'virus': 3438, 'detail': 756, 'dakoda': 693, 'bigelow': 309, 'gain': 1180, 'brand': 378, 'gone': 1241, 'deaf': 717, 'ginius': 1217, 'sttuupid': 3068, 'feels': 1056, 'emotion': 909, 'songgod': 2968, 'rant': 2618, 'vi': 3411, 'lovethewayyoulie': 1979, 'rapgod': 2621, 'king': 1817, 'nobody': 2257, 'reading': 2639, 'quotthumbs': 2602, 'upquot': 3378, 'simple': 2892, 'button': 415, 'bearkglzjqup': 261, 'fbtwitterg': 1047, 'awards': 215, 'method': 2087, 'roulette': 2754, 'shady': 2838, 'ems': 913, 'monster': 2152, 'watchvwgkmxnym': 3499, 'mmlp': 2133, 'ftw': 1161, 'follower': 1108, 'photo': 2426, 'igblastcom': 1627, 'imma': 1646, 'youtubecomwatchvasfnshghkampfeatureyoutube': 3672, 'supporter': 3122, 'hay': 1346, 'dakota': 694, 'earn': 866, 'subscribee': 3084, 'listencheck': 1922, 'andrew': 133, 'guasch': 1292, 'sick': 2885, 'flowim': 1102, 'dopethats': 818, 'aftermath': 70, 'tde': 3172, 'driveshaft': 841, 'extraordinary': 998, 'website': 3514, 'firepacom': 1087, 'per': 2406, 'lake': 1845, 'chillpal': 499, 'sturdy': 3073, 'astauand': 195, 'johackle': 1762, 'chorenn': 507, 'ethosien': 951, 'changeable': 470, 'public': 2555, 'noxu': 2279, 'ploosnar': 2470, 'looplab': 1957, 'hoppler': 1416, 'delicious': 739, 'false': 1020, 'scitenoa': 2794, 'locobot': 1942, 'heartbreaking': 1357, 'thirsty': 3229, 'reminiscent': 2683, 'busyglide': 412, 'sasaroo': 2775, 'sore': 2985, 'axiomatic': 228, 'naperone': 2210, 'mere': 2082, 'undesirable': 3355, 'agreeable': 76, 'encouraging': 917, 'imperfect': 1648, 'roasted': 2738, 'insidious': 1681, 'modgone': 2140, 'quickest': 2573, 'trelod': 3297, 'keen': 1800, 'fresh': 1148, 'economic': 876, 'bocilile': 348, 'females': 1062, 'moneygqcom': 2148, 'victorious': 3413, 'luxuriant': 1995, 'responsible': 2703, 'unbiased': 3346, 'yoffa': 3651, 'ociramma': 2294, 'handsome': 1324, 'arrowgance': 182, 'mizuxe': 2131, 'boaconic': 347, 'sophisticated': 2984, 'illfated': 1636, 'spourmo': 3020, 'chubby': 516, 'hioffpo': 1385, 'probable': 2525, 'singlewave': 2902, 'trop': 3308, 'fort': 1124, 'votre': 3451, 'waratel': 3474, 'misty': 2126, 'exciting': 978, 'swoquix': 3146, 'acaer': 16, 'tupacase': 3325, 'lively': 1929, 'idiotic': 1621, 'bored': 361, 'ablaze': 2, 'crabby': 643, 'aloidia': 100, 'cheilith': 493, 'feandra': 1049, 'ignorant': 1628, 'wavefire': 3505, 'reiltas': 2670, 'skizzle': 2918, 'jovaphile': 1771, 'swooflia': 3145, 'grynn': 1279, 'excellent': 975, 'slimy': 2929, 'gabby': 1178, 'nalpure': 2207, 'lucky': 1988, 'glozzom': 1230, 'depressed': 746, 'sinpad': 2903, 'stereotyped': 3047, 'toximble': 3280, 'belle': 286, 'chanson': 477, 'krean': 1837, 'wonderful': 3586, 'magnificent': 2013, 'noodile': 2265, 'unequaled': 3357, 'moderock': 2139, 'gogopo': 1237, 'lulerain': 1990, 'olielle': 2317, 'zesty': 3696, 'laughable': 1862, 'accidental': 20, 'pepelexa': 2405, 'delightful': 740, 'wiry': 3571, 'toogit': 3271, 'uncovered': 3348, 'chesture': 494, 'woozy': 3591, 'adhoc': 46, 'weak': 3511, 'shallow': 2849, 'performance': 2409, 'acceptance': 17, 'speech': 3002, 'watchvarkglzjqup': 3490, 'ytma': 3691, 'long': 1946, 'paragraph': 2370, 'quotfirequot': 2585, 'httpwwwyoutubecomuserjlimvuth': 1594, 'two': 3336, 'memory': 2077, 'ferirama': 1064, 'besloor': 294, 'shame': 2850, 'eggmode': 887, 'wazzasoft': 3509, 'plifal': 2468, 'shorogyt': 2869, 'value': 3396, 'scale': 2788, 'qerrassa': 2566, 'qiameth': 2567, 'mogotrevo': 2141, 'parede': 2372, 'yboiveth': 3636, 'drirathiel': 839, 'sertave': 2830, 'tendency': 3182, 'humor': 1604, 'unelind': 3356, 'operation': 2335, 'oleald': 2316, 'claster': 527, 'roll': 2747, 'fuffapster': 1168, 'gu': 1290, 'tower': 3278, 'him': 1384, 'quoteminem': 2583, 'yearquot': 3641, 'five': 1093, 'convey': 616, 'domestic': 811, 'violence': 3431, 'fictional': 1069, 'exist': 981, 'chooses': 506, 'stay': 3040, 'sexual': 2836, 'ad': 37, 'fgw': 1067, 'drew': 836, 'reflective': 2664, 'effect': 884, 'expansion': 983, 'intervene': 1703, 'sneeze': 2944, 'witness': 3579, 'smoke': 2941, 'innocent': 1675, 'prioritize': 2522, 'desire': 754, 'flight': 1097, 'polish': 2483, 'tax': 3168, 'zip': 3697, 'omniscient': 2320, 'eminmem': 908, 'worthless': 3601, 'wife': 3558, 'beating': 266, 'bastard': 257, 'micheal': 2094, 'jackson': 1738, 'class': 525, 'fame': 1021, 'authenticviewscom': 207, 'within': 3576, 'spousal': 3021, 'abusue': 15, 'foxbecause': 1132, 'similar': 2891, 'crap': 646, 'nicei': 2240, 'flimsy': 1098, 'slip': 2930, 'facilitate': 1010, 'manager': 2028, 'anxious': 150, 'loss': 1963, 'retrieve': 2707, 'photograph': 2427, 'husky': 1608, 'breath': 384, 'retain': 2705, 'system': 3152, 'rhythm': 2716, 'fabricates': 1004, 'scintillate': 2793, 'harbor': 1330, 'cook': 618, 'officiates': 2303, 'walk': 3465, 'judge': 1773, 'amount': 121, 'ink': 1674, 'train': 3287, 'valuable': 3395, 'increase': 1665, 'cudi': 673, 'watchvxytcqnzmua': 3500, 'annoys': 146, 'latest': 1859, 'pass': 2380, 'cope': 623, 'picked': 2430, 'pen': 2401, 'paper': 2369, 'bring': 386, 'commit': 571, 'suicide': 3108, 'several': 2833, 'professionally': 2531, 'produce': 2529, 'george': 1207, 'inspiration': 1683, 'thou': 3235, 'mockingbird': 2136, 'rhianna': 2713, 'insperasen': 1682, 'fav': 1038, 'eeeveryone': 883, 'dundundunnn': 855, 'collaboration': 547, 'between': 300, 'zonepacom': 3699, 'rehabilitate': 2669, 'blushing': 345, 'limit': 1913, 'depreciateds': 745, 'steel': 3042, 'selection': 2815, 'edit': 879, 'range': 2617, 'disclose': 779, 'macho': 2008, 'lift': 1896, 'letter': 1887, 'frame': 1135, 'thunder': 3246, 'prevent': 2518, 'conscious': 605, 'jelly': 1751, 'activates': 30, 'distribution': 792, 'normal': 2266, 'synthesizes': 3151, 'plant': 2446, 'entertains': 934, 'language': 1852, 'mail': 2018, 'hermann': 1369, 'buchmair': 400, 'realtionship': 2646, 'deserves': 752, 'wasnt': 3481, 'protective': 2546, 'geeze': 1202, 'quotdeazyquot': 2581, 'truethank': 3310, 'again': 71, 'forever': 1118, 'riri': 2728, 'ignore': 1629, 'yuliya': 3692, 'covers': 640, 'serious': 2827, 'september': 2826, 'challenge': 463, 'inside': 1680, 'sneakiestg': 2943, 'muzik': 2200, 'subcribe': 3078, 'fantasy': 1030, 'thefantasy': 3207, 'illustrate': 1639, 'exclusive': 979, 'mountain': 2168, 'refers': 2663, 'helpless': 1364, 'loud': 1967, 'authority': 208, 'improves': 1655, 'canvas': 431, 'repair': 2690, 'uppity': 3377, 'substantial': 3094, 'derives': 748, 'burst': 410, 'render': 2688, 'symptomatic': 3148, 'bite': 329, 'brief': 385, 'narrow': 2211, 'eager': 864, 'transmit': 3292, 'crush': 668, 'mammoth': 2024, 'shock': 2866, 'reduce': 2661, 'delicate': 738, 'meaty': 2057, 'adapt': 39, 'oil': 2309, 'thanx': 3202, 'admit': 49, 'girlfriend': 1221, 'tube': 3322, 'keithlinscotts': 1802, 'mummy': 2186, 'smack': 2934, 'heroin': 1371, 'fruits': 1158, 'vegetable': 3401, 'longer': 1947, 'energy': 919, 'weight': 3519, 'youtubecomuserloseweight': 3671, 'gorg': 1258, 'truly': 3311, 'pour': 2503, 'vincent': 3429, 'less': 1884, 'survival': 3129, 'texas': 3189, 'quotpmwquot': 2597, 'disappoint': 777, 'therealchrisking': 3215, 'quotmemory': 2594, 'lanequot': 1851, 'rd': 2634, 'quotcrown': 2579, 'mequot': 2079, 'catch': 444, 'penny': 2403, 'leandrus': 1873, 'playtime': 2455, 'awesoooome': 223, 'kpopcitynet': 1836, 'large': 1855, 'discount': 780, 'store': 3056, 'quothollywood': 2588, 'collectionquot': 550, 'star': 3032, 'phenomenallyricshere': 2423, 'pls': 2472, 'emi': 903, 'nem': 2222, 'fans': 1028, 'psy': 2553, 'thisthe': 3232, 'skylarworks': 2921, 'tygas': 3338, 'molly': 2142, 'whiz': 3546, 'khalifa': 1806, 'improve': 1653, 'writingrecordingmixingperforming': 3611, 'bar': 249, 'build': 404, 'base': 252, 'improvehelp': 1654, 'closer': 535, 'lyrical': 2000, 'commment': 572, 'adult': 53, 'screw': 2797, 'basketball': 255, 'player': 2450, 'crazycelebnewseupn': 650, 'plzz': 2475, 'srilanka': 3029, 'rate': 2630, 'heshe': 1374, 'lv': 1997, 'onece': 2325, 'started': 3036, 'rapping': 2629, 'aswell': 196, 'pun': 2557, 'beware': 302, 'likes': 1908, 'moon': 2158, 'azerbaijan': 232, 'warning': 3478, 'lneadwbfstvhkjlpxaeyvmnlvmriudtsfkvyali': 1936, 'pašatcroatia': 2392, 'lneadwbfvkahxpkenmfywkyxthsuprijuqsznug': 1940, 'belrustnice': 289, 'lneadwbftvzqtjuehasiefrjgexidvqdnqvphoexode': 1938, 'comebacktm': 559, 'lneadwbfunoaragawgutjoazdkfiuntzhymuhammad': 1939, 'shaeel': 2839, 'abbastfuck': 1, 'lneadwbftotoufjzvfflfnaxykwzsivqhimxenotorious': 1937, 'nikothey': 2252, 'yr': 3689, 'exposure': 993, 'belgium': 282, 'speaks': 3000, 'english': 920, 'resort': 2699, 'audio': 201, 'invest': 1706, 'equipment': 941, 'yourself': 3662, 'response': 2702, 'notorious': 2276, 'niko': 2250, 'eminemlt': 905, 'everlt': 959, 'short': 2870, 'weekend': 3516, 'songvideo': 2973, 'trigger': 3303, 'meghan': 2065, 'ayyy': 231, 'juss': 1780, 'tryna': 3317, 'chrck': 510, 'songcongratulations': 2965, 'quotlove': 2593, 'jemini': 1753, 'adam': 38, 'watchvtugnl': 3497, 'charlieee': 483, 'dddd': 713, 'gtgt': 1284, 'heart': 1356, 'underground': 3351, 'pussy': 2563, 'amazon': 113, 'ohand': 2308, 'warn': 3477, 'overlol': 2357, 'coffee': 545, 'lovers': 1976, 'lovatype': 1970, 'lova': 1969, 'enterthen': 935, 'dedicate': 729, 'writeperformrecordmixeditpost': 3609, 'barsto': 251, 'journeywatch': 1770, 'dreamhelp': 832, 'basethanks': 253, 'getting': 1210, 'moly': 2143, 'hahah': 1312, 'liers': 1892, 'treating': 3296, 'bulgaria': 405, 'easy': 871, 'killtheclockhd': 1813, 'original': 2344, 'include': 1661, 'quotyour': 2608, 'disguisequot': 784, 'hiphop': 1387, 'sooooooooooooooo': 2981, 'gta': 1282, 'gameplay': 1183, 'watchvhmsayho': 3493, 'cypher': 685, 'recently': 2652, 'album': 88, 'ep': 938, 'subscription': 3093, 'ready': 2641, 'cyphers': 686, 'mindcould': 2114, 'musicwe': 2195, 'songsearch': 2971, 'dna': 800, 'guaschi': 1293, 'alive': 93, 'barspart': 250, 'songeveryday': 2966, 'journey': 1769, 'mes': 2083, 'favour': 1043, 'constructive': 610, 'criticism': 662, 'vid': 3414, 'told': 3264, 'potential': 2501, 'student': 3070, 'foward': 1130, 'dragons': 826, 'lana': 1848, 'del': 736, 'rey': 2712, 'drake': 828, 'macklemore': 2009, 'pink': 2438, 'countless': 633, 'fyi': 1177, 'freedom': 1142, 'hip': 1386, 'hop': 1411, 'br': 374, 'rt': 2756, 'httpowlyzmef': 1446, 'aspire': 192, 'fact': 1012, 'looooved': 1956, 'advertisement': 56, 'helpful': 1363, 'quotwe': 2605, 'master': 2042, 'itquot': 1725, 'columbus': 555, 'nelson': 2221, 'spammer': 2994, 'watchvyuttxoyqq': 3501, 'lies': 1893, 'anybody': 152, 'lil': 1910, 'mmph': 2134, 'terrance': 3184, 'serve': 2831, 'quotlike': 2592, 'quotsubscribequot': 2599, 'tvcmcadavidweebly': 3331, 'opportunity': 2339, 'duo': 857, 'freestyle': 1143, 'likecomment': 1903, 'rhyme': 2715, 'pointer': 2481, 'hottest': 1424, 'hairstyle': 1316, 'trend': 3298, 'upgrade': 3372, 'sens': 2823, 'level': 1888, 'behind': 277, 'googlbxrosr': 1248, 'bangladesh': 248, 'quotfeelin': 2584, 'goodquot': 1247, 'jdp': 1748, 'quotghostpoetquot': 2586, 'above': 8, 'upcoming': 3370, 'haters': 1341, 'ii': 1630, 'nicer': 2242, 'quotcruz': 2580, 'supatquot': 3114, 'djj': 799, 'road': 2734, 'recovery': 2658, 'date': 708, 'bbut': 258, 'claire': 523, 'remixes': 2686, 'swag': 3135, 'professor': 2532, 'lemme': 1882, 'berzerk': 293, 'earns': 867, 'wwhore': 3617, 'wage': 3458, 'pc': 2393, 'shitjust': 2862, 'yahoo': 3633, 'legit': 1880, 'msg': 2177, 'thru': 3242, 'vulnerable': 3455, 'mê': 2204, 'recentley': 2651, 'surpass': 3127, 'justing': 1785, 'watchvbwywphic': 3491, 'watchvaimbwbfqbzg': 3489, 'subscrible': 3092, 'honesty': 1407, 'wright': 3607, 'sometime': 2959, 'breaken': 383, 'self': 2816, 'cazzy': 449, 'rule': 2758, 'luck': 1986, 'lovet': 1978, 'btw': 399, 'skill': 2912, 'current': 677, 'mile': 2100, 'somewhere': 2961, 'nothingplease': 2274, 'dreams': 834, 'boys': 373, 'annoy': 143, 'spammed': 2993, 'lover': 1975, 'critisism': 664, 'supper': 3120, 'musicbut': 2190, 'quotso': 2598, 'lunden': 1992, 'lyricism': 2002, 'dongs': 815, 'nirvanatrust': 2253, 'eminen': 907, 'media': 2058, 'evil': 970, 'farrell': 1032, 'report': 2695, 'net': 2227, 'ex': 971, 'police': 2482, 'intelligence': 1697, 'analyst': 128, 'whistleblower': 3543, 'tony': 3269, 'expose': 992, 'horrific': 1419, 'monstrous': 2153, 'coverup': 642, 'perpetrate': 2413, 'operating': 2334, 'crime': 659, 'mainstream': 2019, 'law': 1867, 'firm': 1089, 'protect': 2545, 'child': 497, 'devil': 758, 'brutally': 397, 'target': 3164, 'londons': 1945, 'attack': 198, 'viral': 3434, 'column': 556, 'st': 3030, 'january': 1743, 'touch': 3277, 'mic': 2092, 'thailand': 3192, 'classsic': 526, 'spare': 2997, 'rapperplease': 2626, 'wastin': 3483, 'charley': 481, 'watchvnxkihkds': 3495, 'mcashim': 2050, 'brazil': 380, 'aware': 216, 'sean': 2801, 'kingston': 1819, 'inbox': 1658, 'channelsounds': 474, 'fair': 1015, 'health': 1352, 'scare': 2790, 'thankfully': 3196, 'wasn': 3480, 'mission': 2123, 've': 3400, 'accomplish': 21, 'certain': 458, 'red': 2659, 'anyway': 156, 'kobyoshi': 1828, 'monkeys': 2151, 'shirtplease': 2860, 'test': 3188, 'murdevcom': 2188, 'watchvvtarggvgtwq': 3498, 'kidsmediausa': 1809, 'shouldd': 2874, 'entire': 936, 'httpstwittercomgbphotographygb': 1482, 'httpspremiumeasypromosappcomvoteme': 1472, 'art': 183, 'scientific': 2792, 'experiment': 988, 'tutorial': 3329, 'weve': 3531, 'expectation': 985, 'httpubuntuonecombeuutvuzkxkutgpzk': 1542, 'apparel': 163, 'company': 575, 'design': 753, 'clothing': 537, 'rave': 2632, 'festival': 1065, 'neon': 2223, 'crop': 665, 'tank': 3162, 'vnecks': 3445, 'accessory': 19, 'instagraml': 1687, 'oncueapparel': 2323, 'auburn': 200, 'pride': 2520, 'httpwwwteespringcomtigermeathoodie': 1584, 'marketglory': 2037, 'comstrategygameandrijamatf': 587, 'chiptunes': 504, 'checked': 489, 'gangnamstyle': 1193, 'kyle': 1838, 'android': 134, 'apps': 173, 'martin': 2039, 'luther': 1993, 'jr': 1772, 'came': 422, 'goodbye': 1245, 'fireball': 1086, 'fruity': 1159, 'loops': 1958, 'watchvteloarioo': 3496, 'billioncoming': 317, 'dafuq': 691, 'korean': 1833, 'usa': 3383, 'koreans': 1834, 'bomb': 350, 'succesfull': 3097, 'pplease': 2507, 'takes': 3156, 'seconds': 2806, 'yt': 3690, 'grateful': 1269, 'bf': 304, 'advice': 60, 'effects': 885, 'foto': 1127, 'web': 3513, 'httpaudiojunglenetusereugenekalininportfoliorefeugenekalinin': 1433, 'youtubecodytolleson': 3670, 'roblox': 2739, 'warcraft': 3475, 'mario': 2033, 'czfcxsnjnq': 688, 'httpwwwtwitchtvjaroadc': 1587, 'stream': 3061, 'raw': 2633, 'straight': 3058, 'dizzy': 797, 'juice': 1774, 'prod': 2528, 'drugs': 845, 'citizen': 520, 'lazy': 1868, 'prophetz': 2544, 'httpwwwavaazorgpopetitionyoutubecorporationfoxbroadcastingcompanyanularosstrikesnocanalnostalgiacxpzpgb': 1549, 'hw': 1609, 'often': 2306, 'avoid': 214, 'httpswwwfacebookcompagesbrewcrew': 1499, 'facebookpage': 1007, 'gwar': 1304, 'superbowl': 3116, 'httpwwwchangeorgpetitionsthenationalfootballleagueallowgwartoperformthesuperbowlhalftimeshowshare': 1556, 'httpwwwtwitchtvsevadus': 1588, 'httptankionlinecomfriendcddbf': 1534, 'has': 1336, 'chuck': 518, 'norrus': 2267, 'ovbiously': 2355, 'behold': 278, 'psykorean': 2554, 'oldspice': 2315, 'spraytan': 3023, 'commercial': 570, 'omgim': 2319, 'billions': 318, 'fablife': 1003, 'diys': 796, 'httpwwwguardaloorgbestoffunnycatsgattipazziedivertenti': 1573, 'drone': 842, 'kamal': 1789, 'tayara': 3169, 'trying': 3316, 'showcase': 2877, 'lucas': 1985, 'trigo': 3304, 'gtgtgtgt': 1286, 'httpswwwfacebookcomvideophpvampsetvbamptypeamppermpage': 1514, 'thereim': 3219, 'leader': 1870, 'rookie': 2749, 'chanicka': 471, 'julie': 1775, 'stephanie': 3044, 'leah': 1872, 'notch': 2271, 'management': 2027, 'plan': 2443, 'jyp': 1788, 'bighit': 310, 'jellyfish': 1752, 'yg': 3649, 'sm': 2933, 'httpwooboxcomgxrfbrtu': 1545, 'cs': 670, 'apparently': 164, '강남스타일': 3702, 'httpyoutubebzkpqf': 1596, 'section': 2809, 'httpbinboxiofiro': 1435, 'ching': 503, 'ling': 1915, 'ding': 773, 'ring': 2726, 'yaaaaaa': 3632, 'ganga': 1189, 'sty': 3074, 'httpswwwindiegogocomprojectscleaningthepan': 1515, 'halp': 1322, 'psn': 2552, 'xxbbtczhmhvzd': 3629, 'asian': 188, 'nonasian': 2262, 'asia': 187, 'plizz': 2469, 'withing': 3577, 'angry': 137, 'httpwwwgofundmecomlittlebrother': 1569, 'subscribes': 3089, 'httpthepiratebaysetorrenttimothysykescollection': 1538, 'deserve': 751, 'itz': 1733, 'recap': 2649, 'diddle': 765, 'chinese': 502, 'moneyenjoy': 2147, 'httpswwwtsucoemersonzanol': 1526, 'visuelgamingznl': 3442, 'hoppa': 1415, 'gangam': 1190, 'ehi': 890, 'gofundmecomgrwmps': 1236, 'funnytortspics': 1175, 'httpsplusgooglecompost': 1470, 'bitches': 327, 'china': 501, 'milions': 2104, 'comentars': 561, 'zero': 3695, 'zombie': 3698, 'apocalypse': 159, 'greeting': 1275, 'spoderman': 3010, 'wiews': 3557, 'korea': 1832, 'republic': 2696, 'discover': 781, 'moroccan': 2162, 'httpwwwlinkbuckscomacng': 1574, 'cardsbut': 436, 'spending': 3004, 'cash': 443, 'juno': 1778, 'wallet': 3466, 'nike': 2247, 'gamestop': 1185, 'etc': 950, 'task': 3166, 'videosdownloading': 3419, 'invite': 1710, 'joinits': 1766, 'signup': 2888, 'promo': 2538, 'bd': 259, 'somebody': 2955, 'wake': 3464, 'lots': 1966, 'worth': 3600, 'clicked': 532, 'uphill': 3373, 'jbs': 1747, 'dancepsy': 698, 'httpwwwreverbnationcommsmarilynmiles': 1579, 'starlitnightsky': 3033, 'httpswwwtsucokodysman': 1527, 'thousand': 3239, 'millions': 2106, 'httpwwwgcmforexcompartnersawaspxtaskjointampaffiliateid': 1561, 'allot': 96, 'effort': 886, 'unfortunatly': 3358, 'httpwwwvakinhacombrvaquinhaeaspxe': 1591, 'vip': 3432, 'gun': 1297, 'cross': 666, 'al': 87, 'herehttpswwwfacebookcomtlouxmusic': 1368, 'singing': 2900, 'pal': 2365, 'pivot': 2441, 'animation': 140, 'killuminati': 1814, 'oppa': 2338, 'httpwwwsunfrogshirtscomsunglassworldhtml': 1582, 'httpswwwfacebookcomteelalala': 1512, 'httpwwwtwitchtvzxlightsoutxz': 1590, 'httpssoundcloudcompopaegiswrennalmondeyes': 1477, 'httpwwwswagbuckscompregisterrb': 1583, 'chubbz': 517, 'dinero': 772, 'mscalifornia': 2176, 'ｄａｍｎ': 3704, 'ｔｈｉｓ': 3708, 'ｃｏｍｍｅｎｔ': 3703, 'ｉｓ': 3707, 'ｆａｎｃy': 3705, 'static': 3038, 'incmediaorg': 1662, 'truth': 3314, 'pe': 2396, 'httpwwwbubblewscomnewspeaceandbrotherhood': 1554, 'chacking': 461, 'giver': 1226, 'httpwwwamazoncoukgpofferlistingbecvfgsrqidrefolptabrefurbishedieutfampconditionrefurbishedampqidampsr': 1548, 'httpflipagramcomflukaqmrhf': 1437, 'httpwwwgofundmecomgvrxg': 1566, 'httpswwwchangeorgpfacebooktwitteryoutubedonotcensorjulienblanc': 1486, 'httpssoundcloudcomjackalandjameswrapupthenight': 1474, 'httpswwwsurveymonkeycomscvhmklt': 1524, 'vidios': 3421, 'bot': 364, 'bs': 398, 'awesomeness': 221, 'aaaaaaa': 0, 'lada': 1842, 'httpwwwermailpldolaczvveygin': 1559, 'thingyou': 3227, 'toll': 3265, 'registr': 2667, 'httpswwwtsucoworldwidelife': 1530, 'yellow': 3644, 'suit': 3109, 'jaesuk': 1739, 'multiple': 2184, 'accounts': 23, 'wat': 3485, 'viewed': 3426, 'httpwwwtwitchtvtareko': 1589, 'twitch': 3334, 'keyword': 1805, 'expensive': 986, 'csgo': 671, 'steam': 3041, 'market': 2035, 'httpswwwtsucoaseris': 1525, 'population': 2488, 'repass': 2691, 'httpwwwsharedcomwebpreviewpdfcjfoftxeba': 1581, 'launchpad': 1864, 'spot': 3017, 'easily': 870, 'bother': 365, 'loli': 1944, 'dunno': 856, 'joke': 1767, 'whatever': 3533, 'gangman': 1191, 'dddddddrop': 714, 'bass': 256, 'rappersongwriter': 2628, 'pleasealso': 2463, 'excuse': 980, 'prehistoric': 2512, 'songhas': 2969, 'smart': 2936, 'headbutt': 1350, 'enimen': 921, 'loool': 1953, 'understands': 3354, 'pray': 2510, 'tumor': 3323, 'chriscz': 511, 'relevant': 2676, 'saythis': 2787, 'camera': 423, 'glasses': 1229, 'koean': 1830, 'chainise': 462, 'ana': 126, 'december': 722, 'equal': 940, 'smartie': 2937, 'pants': 2368, 'theres': 3220, 'point': 2480, 'listening': 1924, 'stfu': 3049, 'jap': 1744, 'fish': 1091, 'untanlted': 3366, 'gook': 1250, 'fucken': 1164, 'obsess': 2291, 'remove': 2687, 'wank': 3469, 'ithat': 1723, 'actor': 32, 'hwang': 1610, 'minoo': 2118, 'suffer': 3107, 'brain': 376, 'future': 1176, 'superstar': 3119, 'stronglittlepsy': 3067, 'fighting': 1074, 'praying': 2511, 'httpygunitedcomlittlepsyfromthehasbraintumormonthslefttolive': 1595, 'users': 3388, 'fake': 1018, 'yeat': 3643, 'hole': 1400, 'voyage': 3454, 'phenomenon': 2424, 'slut': 2932, 'hyuna': 1613, 'kollektivet': 1831, 'slappin': 2925, 'credit': 655, 'flute': 1103, 'deal': 718, 'theory': 3213, 'couldve': 630, 'mabey': 2005, 'realy': 2647, 'rise': 2729, 'populatoin': 2489, 'connect': 603, 'hackers': 1308, 'mp': 2174, 'eve': 955, 'event': 957, 'complain': 579, 'heck': 1359, 'hits': 1394, 'queen': 2570, 'michael': 2093, 'millisecond': 2108, 'chick': 496, 'tries': 3302, 'annoying': 145, 'httpswwwfacebookcompagesmathsterwprefhl': 1505, 'millioon': 2107, 'dislikesssssssssssssssssssssssssssssssss': 788, 'lucks': 1987, 'kidz': 1810, 'billon': 319, 'millonget': 2109, 'humanity': 1602, 'odowd': 2297, 'crowd': 667, 'translate': 3291, 'saying': 2785, 'smh': 2938, 'tsū': 3321, 'platform': 2447, 'httptsucomarkusmairhofer': 1539, 'youtubedaaaaaaaaaaannng': 3673, 'dominate': 812, 'entirechina': 937, 'officialpsy': 2302, 'dislikesepic': 787, 'failready': 1014, 'fanboys': 1026, 'funnier': 1173, 'spoken': 3011, 'rapidly': 2623, 'summon': 3111, 'freddy': 1139, 'mercurys': 2081, 'ghost': 1212, 'whipe': 3542, 'direction': 774, 'cirus': 519, 'bucket': 402, 'ice': 1615, 'shares': 2852, 'dylan': 861, 'irl': 1715, 'football': 1115, 'hunger': 1605, 'games': 1184, 'httpswwwfacebookcomlists': 1494, 'beibs': 279, 'capitalize': 433, 'tazz': 3171, 'college': 551, 'httpswwwindiegogocomprojectsiwanttogotocollegex': 1518, 'httpswwwfacebookcomschoolgeniusnitsphotosmscejwkvkoxdamqmhzsnjqpthqbeumaqupihfphgkzllsvdqvzufmblnujufthyokfrxytszvrrpqgtwylhfvlczzrgvgctlpsdongewhjgibuslzmvyiqtwsfzzwhnjusvhufpglqrzczlfnphagevbxydmcxjtcjnmhovfxwcjzyvwobihrngxocjngpgevhxzyjdohryfsprndxvbzszzbpsatypeamptheater': 1511, 'sucscribe': 3105, 'vaahidmustafic': 3393, 'offıcal': 2305, 'httpswwwfacebookcomnicushorbboy': 1497, 'jenny': 1754, 'fashionable': 1034, 'clothes': 536, 'low': 1981, 'esteem': 945, 'shy': 2883, 'confidence': 595, 'caroline': 441, 'move': 2170, 'shop': 2868, 'walmart': 3467, 'salon': 2766, 'alot': 102, 'french': 1146, 'curl': 675, 'httpwwwgofundmecomdressprettyonce': 1564, 'throw': 3241, 'burn': 409, 'chhanel': 495, 'posting': 2499, 'hav': 1343, 'confirm': 596, 'craft': 644, 'fuego': 1167, 'la': 1839, 'hyperurlcokaxt': 1611, 'wwwmarketglorycomstrategygamelordviperas': 3618, 'block': 339, 'thered': 3217, 'sun': 3112, 'drive': 840, 'eliminate': 896, 'hassle': 1337, 'swing': 3143, 'car': 434, 'visor': 3440, 'windshield': 3567, 'window': 3566, 'httpswwwkickstartercomprojectsvisortwin': 1519, 'juyk': 1787, 'allways': 98, 'httpswwwfacebookcomfudairyqueenpnrefstory': 1491, 'salt': 2767, 'westerner': 3529, 'httpstwittercomthewaxedhatco': 1483, 'adsense': 52, 'morgage': 2160, 'outfit': 2353, 'huge': 1599, 'turnoff': 3327, 'lack': 1840, 'eyebrow': 1001, 'difficult': 771, 'httpimageyouru': 1441, 'entertain': 930, 'shotgun': 2872, 'montagesninja': 2155, 'defuse': 735, 'montages': 2154, 'trolling': 3306, 'httpswwwfacebookcomtofikmiedzynbphotosatypeamptheater': 1513, 'httpswwwfacebookcomeecconpostscommentidampoffsetamptotalcomments': 1489, 'frigea': 1153, 'marius': 2034, 'gabriel': 1179, 'httpwwwbingcomexplorerewardspublreferafriendampcrearawamprridffaaaacfcedeeaca': 1552, 'bing': 321, 'reward': 2711, 'httpteespringcomtreechristmas': 1535, 'crdits': 651, 'httpsmfreemyappscomshareurlafe': 1463, 'everyones': 966, 'lool': 1951, 'duty': 859, 'aways': 218, 'editor': 880, 'httpsplaygooglecomstoreappsdetailsidcombutalabsphotoeditor': 1466, 'were': 3526, 'replay': 2693, 'worldcup': 3596, 'guruofmovie': 1298, 'waka': 3462, 'wery': 3528, 'iniestas': 1673, 'netherlands': 2229, 'whose': 3552, 'thumsb': 3245, 'axy': 229, 'blonde': 342, 'racists': 2610, 'times': 3254, 'itttttttt': 1730, 'wurkkkkkkkkkkkkkkkkkkkkkkkkkkkkkkkkkkkkkkkkkkkkkkkkkkkkkkkkkkkkkkkkkkkkkkkkkkkkkkkkkkkkkkkkkkkkkkkkkkkkk': 3615, 'wooooo': 3590, 'saturday': 2778, 'postpone': 2500, 'week': 3515, 'matters': 2045, 'itht': 1724, 'fright': 1154, 'entertainer': 931, 'soccer': 2946, 'cd': 450, 'couch': 627, 'fave': 1039, 'felt': 1060, 'madly': 2011, 'totally': 3276, 'goood': 1252, 'fifa': 1072, 'coby': 542, 'usl': 3389, 'httpadfly': 1432, 'hmvtx': 1397, 'ilovethissong': 1641, 'lamest': 1847, 'africa': 65, 'aid': 80, 'charity': 480, 'proud': 2548, 'ricky': 2719, 'sam': 2769, 'billiom': 315, 'decide': 724, 'shakifans': 2842, 'ilove': 1640, 'curly': 676, 'blank': 334, 'mio': 2120, 'muchshakira': 2183, 'definitley': 734, 'gypsy': 1305, 'shakiravevo': 2846, 'torunament': 3274, 'nummber': 2285, 'patrik': 2386, 'kluivert': 1823, 'ampi': 123, 'shakiralt': 2844, 'stil': 3051, 'wk': 3580, 'recording': 2657, 'goals': 1234, 'wil': 3560, 'wanderfol': 3468, 'miusic': 2127, 'pleasant': 2461, 'eh': 889, 'cutie': 683, 'shkira': 2864, 'promotes': 2541, 'terrorism': 3186, 'lip': 1919, 'synch': 3149, 'languages': 1853, 'gusttavo': 1300, 'lima': 1912, 'você': 3446, 'não': 2289, 'conhece': 602, 'offical': 2300, 'shakiras': 2845, 'dark': 706, 'horse': 1420, 'ahead': 78, 'roughly': 2753, 'httpswwwyoutubecomwatchvprpeedmmmq': 1531, 'underrated': 3352, 'meaningful': 2054, 'vibe': 3412, 'expect': 984, 'instantly': 1689, 'faves': 1040, 'brazilian': 381, 'shaki': 2841, 'autotuned': 211, 'lisening': 1920, 'shakiria': 2847, 'aunt': 204, 'empire': 911, 'youtubecentral': 3668, 'dedication': 730, 'believer': 284, 'loyal': 1982, 'reads': 2640, 'doing': 808, 'pleas': 2460, 'gamezzmta': 1187, 'gamezz': 1186, 'mta': 2178, 'traffic': 3285, 'petition': 2421, 'httpwwwthepetitionsitecomstopanimaltraffickingcidheaderclick': 1585, 'cap': 432, 'ej': 893, 'ba': 233, 'dancing': 701, 'hopme': 1414, 'httpswwwpaidvertscomrefsihaam': 1521, 'spanish': 2996, 'brake': 377, 'pleassssssssssssssss': 2465, 'subscribeeeeeeeeee': 3085, 'channnnnnelll': 476, 'httpswwwpaidvertscomrefmarius': 1520, 'income': 1663, 'financial': 1082, 'risk': 2730, 'acquire': 27, 'bonus': 352, 'technique': 3177, 'wager': 3459, 'bookmaker': 356, 'bet': 296, 'betfair': 298, 'secure': 2810, 'chap': 478, 'jim': 1757, 'vanstone': 3399, 'secrets': 2808, 'quid': 2574, 'thus': 3247, 'costfree': 626, 'bookie': 355, 'obtain': 2292, 'consumer': 611, 'compare': 576, 'adore': 50, 'claim': 522, 'lad': 1841, 'select': 2814, 'assume': 194, 'succeed': 3096, 'dribbleproshot': 837, 'significantly': 2887, 'boost': 358, 'aka': 86, 'nick': 2243, 'playerhis': 2451, 'mate': 2043, 'definitily': 733, 'quotdribbleproshotquot': 2582, 'useful': 3385, 'demonstrate': 743, 'enormously': 927, 'transform': 3289, 'fausto': 1037, 'substantially': 3095, 'footballsoccer': 1116, 'playerto': 2452, 'amazement': 111, 'hopefully': 1413, 'kpop': 1835, 'voucher': 3452, 'cardsxbox': 437, 'duzafizz': 860, 'burder': 408, 'colorful': 553, 'incandescent': 1659, 'ambitious': 115, 'winooze': 3569, 'absorbing': 11, 'macabre': 2006, 'crestboot': 657, 'boxium': 369, 'womanly': 3584, 'ybuwyn': 3637, 'forgetful': 1120, 'zealous': 3694, 'wakad': 3463, 'halloween': 1320, 'dreamer': 831, 'ourself': 2351, 'thankss': 3200, 'wilsubscribe': 3563, 'frndzzl': 1155, 'fragile': 1134, 'swim': 3142, 'enlist': 926, 'audit': 202, 'frequent': 1147, 'describes': 750, 'requite': 2697, 'mess': 2084, 'upto': 3379, 'netjobscom': 2230, 'comfort': 562, 'currently': 678, 'hiring': 1389, 'wide': 3555, 'jobs': 1761, 'sites': 2909, 'facebooktwitter': 1009, 'prior': 2521, 'skills': 2913, 'experience': 987, 'immediately': 1647, 'monthly': 2157, 'statement': 3037, 'conciliate': 592, 'acidic': 25, 'stretch': 3065, 'recognizes': 2654, 'numberless': 2284, 'transport': 3293, 'trade': 3284, 'ww': 3616, 'estiloproduction': 946, 'galaxy': 1181, 'mini': 2117, 'ipad': 1712, 'hhnl': 1376, 'being': 280, 'respond': 2701, 'enable': 915, 'buck': 401, 'bitlybsefqe': 330, 'guysi': 1303, 'houronly': 1426, 'meat': 2056, 'discus': 783, 'peaceful': 2398, 'unit': 3360, 'arbitrate': 174, 'guide': 1295, 'addition': 43, 'worried': 3598, 'approve': 172, 'insurance': 1694, 'appoints': 168, 'prepare': 2513, 'historical': 1391, 'plausible': 2448, 'submits': 3079, 'behavior': 276, 'grass': 1268, 'seat': 2803, 'strategizes': 3059, 'edge': 878, 'oldchattk': 2314, 'anderson': 132, 'harder': 1333, 'quotyeahquot': 2607, 'thatd': 3204, 'itd': 1722, 'daneja': 702, 'suscribite': 3133, 'de': 715, 'whatuknow': 3535, 'rugby': 2757, 'euw': 953, 'germany': 1208, 'netherland': 2228, 'france': 1136, 'portugal': 2492, 'spain': 2991, 'britishs': 390, 'refuse': 2665, 'euro': 952, 'beutiful': 301, 'eva': 954, 'jesus': 1756, 'christ': 512, 'savior': 2781, 'sin': 2894, 'heaven': 1358, 'save': 2779, 'salvation': 2768, 'righteousness': 2722, 'present': 2514, 'perhaps': 2411, 'cock': 543, 'celebrity': 456, 'beneath': 290, 'mileysecretvideocouk': 2103, 'leech': 1878, 'porno': 2491, 'celeb': 453, 'mileycelebnewscouk': 2102, 'tape': 3163, 'banging': 247, 'under': 3350, 'dreaming': 833, 'piano': 2428, 'step': 3043, 'forward': 1126, 'echa': 875, 'vistazo': 3441, 'remezcla': 2680, 'wrecking': 3606, 'ball': 241, 'enlace': 924, 'suscríbase': 3134, 'musicvideo': 2194, 'lifes': 1895, 'celebration': 455, 'watchvdtqcftrfac': 3492, 'justien': 1783, 'likeampsubscribe': 1902, 'wellcomemdblogfacom': 3524, 'ｈｔｔｐｗｗｗｅｂａｙｃｏｍｕｓｒｓｈｏｅｃｏｌｌｅｃｔｏｒ': 3706, 'ouf': 2348, 'ouffffffffffffffffff': 2349, 'goose': 1254, 'bump': 406, 'recommend': 2655, 'apple': 166, 'gen': 1203, 'gb': 1201, 'unlocked': 3363, 'wifig': 3559, 'price': 2519, 'samsung': 2771, 'iv': 1734, 'sony': 2975, 'led': 1877, 'hdtv': 1347, 'allinone': 95, 'pcs': 2395, 'macbook': 2007, 'air': 83, 'nikon': 2251, 'slr': 2931, 'ultrabooks': 3341, 'vaio': 3394, 'intel': 1696, 'purchase': 2558, 'taaeecom': 3153, 'quothelp': 2587, 'wholehearted': 3549, 'quotnoquot': 2595, 'discrimination': 782, 'united': 3361, 'impossible': 1651, 'itself': 1727, 'says': 2786, 'possiblequot': 2495, 'winners': 3568, 'successcheers': 3099, 'loving': 1980, 'brothers': 394, 'sisters': 2906, 'tinyurldotcomslashmxhy': 3255, 'none': 2263, 'comforter': 563, 'afflict': 62, 'christians': 514, 'angels': 136, 'patriarchs': 2385, 'prophets': 2543, 'apostles': 161, 'martyrs': 2040, 'confessors': 594, 'virgins': 3436, 'saints': 2765, 'conceive': 590, 'rosary': 2752, 'mary': 2041, 'virgin': 3435, 'divine': 794, 'grace': 1265, 'pure': 2559, 'chaste': 484, 'inviolate': 1708, 'undefiled': 3349, 'amiable': 120, 'admirable': 47, 'counsel': 631, 'redeemer': 2660, 'affiliate': 61, 'enjoyable': 923, 'neeru': 2219, 'gmailcom': 1231, 'advertisiments': 58, 'rappersinger': 2627, 'estonia': 947, 'wafence': 3457, 'apprecitate': 171, 'ways': 3508, 'nlmemakemoneywithoutinvestment': 2255, 'richest': 2718, 'marketer': 2036, 'bitlymakemoneywithoutadroid': 332, 'dickwad': 763, 'colour': 554, 'ancestor': 130, 'baba': 234, 'brinkman': 388, 'quotim': 2591, 'africanquot': 67, 'muslim': 2197, 'egoistic': 888, 'terrorist': 3187, 'wats': 3503, 'ik': 1632, 'amy': 124, 'northland': 2268, 'paranormal': 2371, 'society': 2948, 'evidence': 969, 'pas': 2379, 'instrumental': 1692, 'songwriter': 2974, 'mississippi': 2124, 'highly': 1381, 'whitney': 3545, 'investmentjust': 1707, 'thergloveblogspotinblogposthtml': 3221, 'bitlygkvdo': 331, 'kodaline': 1829, 'dragonsand': 827, 'adfly': 45, 'kldy': 1822, 'irish': 1714, 'aviciis': 213, 'quotwake': 2604, 'fiddle': 1070, 'sillyquot': 2890, 'animator': 141, 'pagee': 2361, 'versace': 3405, 'cge': 460, 'quotversace': 2603, 'moneyquot': 2149, 'jawan': 1745, 'gardner': 1197, 'comedy': 560, 'recipe': 2653, 'prank': 2509, 'crank': 645, 'nicely': 2241, 'lame': 1846, 'swagfriends': 3136, 'movement': 2171, 'partyman': 2378, 'fr': 1133, 'tunez': 3324, 'hicheck': 1378, 'forty': 1125, 'famine': 1023, 'food': 1110, 'raise': 2613, 'luxury': 1996, 'itt': 1729, 'ppl': 2506, 'intention': 1699, 'annoyed': 144, 'writer': 3610, 'eight': 891, 'importantly': 1650, 'focus': 1105, 'send': 2822, 'justice': 1782, 'steven': 3048, 'reed': 2662, 'lands': 1850, 'supreme': 3124, 'courtthanks': 638, 'johnny': 1764, 'continue': 615, 'musiclyrics': 2193, 'keyboard': 1804, 'manband': 2029, 'independent': 1669, 'listenersupported': 1923, 'willing': 3562, 'namepicture': 2209, 'alvar': 107, 'quotthis': 2601, 'africaquot': 68, 'trayvon': 3295, 'motherland': 2166, 'thankyou': 3201, 'convince': 617, 'perform': 2408, 'form': 1122, 'leisure': 1881, 'cease': 451, 'revel': 2709, 'murder': 2187, 'plot': 2471, 'neighbor': 2220, 'clap': 524, 'wickedness': 3554, 'openly': 2333, 'street': 3063, 'perverse': 2418, 'abominable': 4, 'shall': 2848, 'repay': 2692, 'lord': 1960, 'trumpetcallofgodonline': 3312, 'co': 541, 'chill': 498, 'hearing': 1355, 'mixtapecheck': 2130, 'camp': 425, 'wiredo': 3570, 'dancer': 699}\n"
          ],
          "name": "stdout"
        }
      ]
    },
    {
      "cell_type": "markdown",
      "metadata": {
        "id": "HQw-P4G7z0e8",
        "colab_type": "text"
      },
      "source": [
        "## **Trainning on the SVM classifier**"
      ]
    },
    {
      "cell_type": "code",
      "metadata": {
        "id": "2-e_KuT0yzW7",
        "colab_type": "code",
        "outputId": "53ef5509-acfe-493d-f34e-2b8a82bf2c5d",
        "colab": {
          "base_uri": "https://localhost:8080/",
          "height": 84
        }
      },
      "source": [
        "SVM = svm.SVC(C=1.0, kernel='linear', verbose=True)\n",
        "SVM.fit(Train_X_Tfidf,Train_Y)"
      ],
      "execution_count": 0,
      "outputs": [
        {
          "output_type": "stream",
          "text": [
            "[LibSVM]"
          ],
          "name": "stdout"
        },
        {
          "output_type": "execute_result",
          "data": {
            "text/plain": [
              "SVC(C=1.0, break_ties=False, cache_size=200, class_weight=None, coef0=0.0,\n",
              "    decision_function_shape='ovr', degree=3, gamma='scale', kernel='linear',\n",
              "    max_iter=-1, probability=False, random_state=None, shrinking=True,\n",
              "    tol=0.001, verbose=True)"
            ]
          },
          "metadata": {
            "tags": []
          },
          "execution_count": 106
        }
      ]
    },
    {
      "cell_type": "markdown",
      "metadata": {
        "id": "oeab3kwjzwHe",
        "colab_type": "text"
      },
      "source": [
        "**Predict and evaluate the SVM classifier**"
      ]
    },
    {
      "cell_type": "code",
      "metadata": {
        "id": "uNH9Szb41Lxi",
        "colab_type": "code",
        "outputId": "8bfffbea-2528-4ddd-b19f-84c45939a7d0",
        "colab": {
          "base_uri": "https://localhost:8080/",
          "height": 279
        }
      },
      "source": [
        "predictions_SVM=SVM.predict(Test_X_Tfidf)\n",
        "fig, ax = plot_confusion_matrix(conf_mat=confusion_matrix(Test_Y,predictions_SVM))\n",
        "plt.show()"
      ],
      "execution_count": 0,
      "outputs": [
        {
          "output_type": "display_data",
          "data": {
            "image/png": "[encoded data removed]",
            "text/plain": [
              "<Figure size 432x288 with 1 Axes>"
            ]
          },
          "metadata": {
            "tags": []
          }
        }
      ]
    },
    {
      "cell_type": "code",
      "metadata": {
        "id": "-e2OwAKO9eJF",
        "colab_type": "code",
        "outputId": "ef191375-a8ea-4f8b-92be-4d6edc730886",
        "colab": {
          "base_uri": "https://localhost:8080/",
          "height": 168
        }
      },
      "source": [
        "print(classification_report(Test_Y,predictions_SVM))"
      ],
      "execution_count": 0,
      "outputs": [
        {
          "output_type": "stream",
          "text": [
            "              precision    recall  f1-score   support\n",
            "\n",
            "           0       0.82      0.94      0.88       287\n",
            "           1       0.93      0.81      0.86       300\n",
            "\n",
            "    accuracy                           0.87       587\n",
            "   macro avg       0.88      0.87      0.87       587\n",
            "weighted avg       0.88      0.87      0.87       587\n",
            "\n"
          ],
          "name": "stdout"
        }
      ]
    },
    {
      "cell_type": "markdown",
      "metadata": {
        "id": "3RGVdoWO0MTd",
        "colab_type": "text"
      },
      "source": [
        "## **Trainning on the Naive Bayes Classifier**"
      ]
    },
    {
      "cell_type": "code",
      "metadata": {
        "id": "9xSLTar-z-k6",
        "colab_type": "code",
        "outputId": "c54a7487-11b7-4b03-8c7c-45ebab8762fe",
        "colab": {
          "base_uri": "https://localhost:8080/",
          "height": 34
        }
      },
      "source": [
        "Naive = naive_bayes.MultinomialNB()\n",
        "Naive.fit(Train_X_Tfidf,Train_Y)"
      ],
      "execution_count": 0,
      "outputs": [
        {
          "output_type": "execute_result",
          "data": {
            "text/plain": [
              "MultinomialNB(alpha=1.0, class_prior=None, fit_prior=True)"
            ]
          },
          "metadata": {
            "tags": []
          },
          "execution_count": 115
        }
      ]
    },
    {
      "cell_type": "markdown",
      "metadata": {
        "id": "_8QLv_Zz0P9j",
        "colab_type": "text"
      },
      "source": [
        "**Predict and evaluate the Naive Bayes Classifier**"
      ]
    },
    {
      "cell_type": "code",
      "metadata": {
        "id": "mPbuOVdN-Oe-",
        "colab_type": "code",
        "outputId": "1eb46334-ff59-4e18-a0e5-5a608685ff53",
        "colab": {
          "base_uri": "https://localhost:8080/",
          "height": 279
        }
      },
      "source": [
        "predictions_NB=Naive.predict(Test_X_Tfidf)\n",
        "fig, ax = plot_confusion_matrix(conf_mat=confusion_matrix(Test_Y,predictions_NB))\n",
        "plt.show()"
      ],
      "execution_count": 0,
      "outputs": [
        {
          "output_type": "display_data",
          "data": {
            "image/png": "[encoded data removed]",
            "text/plain": [
              "<Figure size 432x288 with 1 Axes>"
            ]
          },
          "metadata": {
            "tags": []
          }
        }
      ]
    },
    {
      "cell_type": "code",
      "metadata": {
        "id": "9k22ldOj0CAa",
        "colab_type": "code",
        "outputId": "ba75436b-6165-4e7d-f796-253b2bc55e33",
        "colab": {
          "base_uri": "https://localhost:8080/",
          "height": 168
        }
      },
      "source": [
        "print(classification_report(Test_Y,predictions_NB))"
      ],
      "execution_count": 0,
      "outputs": [
        {
          "output_type": "stream",
          "text": [
            "              precision    recall  f1-score   support\n",
            "\n",
            "           0       0.85      0.88      0.86       287\n",
            "           1       0.88      0.85      0.86       300\n",
            "\n",
            "    accuracy                           0.86       587\n",
            "   macro avg       0.86      0.86      0.86       587\n",
            "weighted avg       0.86      0.86      0.86       587\n",
            "\n"
          ],
          "name": "stdout"
        }
      ]
    },
    {
      "cell_type": "markdown",
      "metadata": {
        "id": "qoyU4kK8XbIS",
        "colab_type": "text"
      },
      "source": [
        "# ***Save model***"
      ]
    },
    {
      "cell_type": "code",
      "metadata": {
        "id": "ONzqnF8tXpXZ",
        "colab_type": "code",
        "outputId": "0fbb8d80-8ce1-4acc-ff35-e7803276576e",
        "colab": {
          "base_uri": "https://localhost:8080/",
          "height": 34
        }
      },
      "source": [
        "joblib.dump(Tfidf_vect, '/content/model/tfidf.pkl')\n",
        "joblib.dump(tokenizer, '/content/model/tokenizer_LSTM.pkl')\n",
        "joblib.dump(model, '/content/model/LSTM_model.pkl')\n",
        "joblib.dump(SVM, '/content/model/SVM_model.pkl')\n",
        "joblib.dump(Naive, '/content/model/NB_model.pkl')"
      ],
      "execution_count": 0,
      "outputs": [
        {
          "output_type": "execute_result",
          "data": {
            "text/plain": [
              "['/content/model/NB_model.pkl']"
            ]
          },
          "metadata": {
            "tags": []
          },
          "execution_count": 244
        }
      ]
    },
    {
      "cell_type": "markdown",
      "metadata": {
        "id": "cs1wBCBUFYFu",
        "colab_type": "text"
      },
      "source": [
        "# ***Enter comment and check***"
      ]
    },
    {
      "cell_type": "markdown",
      "metadata": {
        "id": "g78HI7WyOQ4k",
        "colab_type": "text"
      },
      "source": [
        "## *utils*"
      ]
    },
    {
      "cell_type": "code",
      "metadata": {
        "id": "kT94GCJ2Ur30",
        "colab_type": "code",
        "colab": {}
      },
      "source": [
        "from nltk.corpus import wordnet\n",
        "from nltk.stem import WordNetLemmatizer\n",
        "import re\n",
        "import string\n",
        "from string import digits, punctuation\n",
        "\n",
        "def word_lenmatizer(text):\n",
        "    cleanr = re.compile('<.*?>')\n",
        "    text=re.sub(cleanr, ' ', text)\n",
        "    clean = text.translate(str.maketrans('', '', punctuation))\n",
        "    clean = clean.translate(str.maketrans('', '', digits))\n",
        "    text_tokenizer=clean.split()\n",
        "    # Init Lemmatizer\n",
        "    lemmatizer = WordNetLemmatizer()\n",
        "    hl_lemmatized = []\n",
        "    lemm = [lemmatizer.lemmatize(w, get_wordnet_pos(w)) for w in text_tokenizer]\n",
        "    hl_lemmatized.append(lemm)\n",
        "    return hl_lemmatized\n",
        "\n",
        "def LSTM_predict(text,model,tokenizer):\n",
        "  w_lenmatizer=word_lenmatizer(text)\n",
        "  max_token = 14\n",
        "  sequences = tokenizer.texts_to_sequences(w_lenmatizer)\n",
        "  X = pad_sequences(sequences, maxlen=max_token)\n",
        "  if np.around(model.predict(X)[0])==1:\n",
        "    print(text)\n",
        "    print(\"=============> SPAM\\n\")\n",
        "  else:\n",
        "    print(text)\n",
        "    print(\"=============> HAM\\n\")\n",
        "\n",
        "def predict(text,model,tfidf_vector):\n",
        "  w_lenmatizer=word_lenmatizer(text)\n",
        "  w_lenmatizer = [\" \".join(x) for x in w_lenmatizer]\n",
        "  X_Tfidf = tfidf_vector.transform(w_lenmatizer)\n",
        "  if model.predict(X_Tfidf)[0]==1:\n",
        "    print(text)\n",
        "    print(\"=============> SPAM\\n\")\n",
        "  else:\n",
        "    print(text)\n",
        "    print(\"=============> HAM\\n\")\n",
        "\n"
      ],
      "execution_count": 0,
      "outputs": []
    },
    {
      "cell_type": "markdown",
      "metadata": {
        "id": "zzUTRbrYOXMC",
        "colab_type": "text"
      },
      "source": [
        "## Predict"
      ]
    },
    {
      "cell_type": "markdown",
      "metadata": {
        "id": "5srnrDC4Glpe",
        "colab_type": "text"
      },
      "source": [
        "Load model "
      ]
    },
    {
      "cell_type": "code",
      "metadata": {
        "id": "dj3Y7vDWGs_8",
        "colab_type": "code",
        "colab": {}
      },
      "source": [
        "model_LSTM=joblib.load('/content/model/LSTM_model.pkl')\n",
        "tokenizer_LSTM=joblib.load('/content/model/tokenizer_LSTM.pkl')\n",
        "SVM_model=joblib.load('/content/model/SVM_model.pkl')\n",
        "NB_model=joblib.load('/content/model/NB_model.pkl')\n",
        "tfidf_vec=joblib.load('/content/model/tfidf.pkl')\n"
      ],
      "execution_count": 0,
      "outputs": []
    },
    {
      "cell_type": "markdown",
      "metadata": {
        "id": "nR7m-FhFhB8H",
        "colab_type": "text"
      },
      "source": [
        "Using LSTM model to predict"
      ]
    },
    {
      "cell_type": "code",
      "metadata": {
        "id": "k6eBwP2kYvpl",
        "colab_type": "code",
        "outputId": "8f3e4cf6-2c03-42dc-c21d-e482acfc54f0",
        "colab": {
          "base_uri": "https://localhost:8080/",
          "height": 118
        }
      },
      "source": [
        "cmt='Please subcribe my channel'\n",
        "LSTM_predict(cmt,model_LSTM,tokenizer_LSTM)\n",
        "\n",
        "\n",
        "cmt2='I just remembered the song because of Alvin and The Chipmunks 😂'\n",
        "LSTM_predict(cmt2,model_LSTM,tokenizer_LSTM)"
      ],
      "execution_count": 0,
      "outputs": [
        {
          "output_type": "stream",
          "text": [
            "Please subcribe my channel\n",
            "=============> SPAM\n",
            "\n",
            "I just remembered the song because of Alvin and The Chipmunks 😂\n",
            "=============> HAM\n",
            "\n"
          ],
          "name": "stdout"
        }
      ]
    },
    {
      "cell_type": "markdown",
      "metadata": {
        "id": "ZtvPXsE4Gkk8",
        "colab_type": "text"
      },
      "source": [
        "Using SVM clasifier"
      ]
    },
    {
      "cell_type": "code",
      "metadata": {
        "id": "le5mHuIZGuqN",
        "colab_type": "code",
        "outputId": "f9bb0dcc-6d66-4c9f-b38d-dc28beb2674b",
        "colab": {
          "base_uri": "https://localhost:8080/",
          "height": 118
        }
      },
      "source": [
        "cmt='Follow me on instagram, remember to like and subcribe'\n",
        "predict(cmt,SVM_model,tfidf_vec)\n",
        "\n",
        "\n",
        "cmt2='This is probably the best song that represents the world cup ever.'\n",
        "predict(cmt2,SVM_model,tfidf_vec)"
      ],
      "execution_count": 0,
      "outputs": [
        {
          "output_type": "stream",
          "text": [
            "Take a look at this video on YouTube\n",
            "=============> SPAM\n",
            "\n",
            "Such a shame that this song didnt reach 1B in 10 years.\n",
            "=============> HAM\n",
            "\n"
          ],
          "name": "stdout"
        }
      ]
    },
    {
      "cell_type": "markdown",
      "metadata": {
        "id": "HIZ2FvNdGy6t",
        "colab_type": "text"
      },
      "source": [
        "Using NB clasifier\n"
      ]
    },
    {
      "cell_type": "code",
      "metadata": {
        "id": "j8gRsJ85G2Gl",
        "colab_type": "code",
        "outputId": "2f234e24-6e50-4e8d-dd03-dc0f74442637",
        "colab": {
          "base_uri": "https://localhost:8080/",
          "height": 118
        }
      },
      "source": [
        "cmt='Such a shame that this song didnt reach 1B in 10 years.'\n",
        "predict(cmt,NB_model,tfidf_vec)\n",
        "\n",
        "\n",
        "cmt2='LIKE THIS COMMENT IF YOU ARE WATCHING.'\n",
        "predict(cmt2,NB_model,tfidf_vec)"
      ],
      "execution_count": 0,
      "outputs": [
        {
          "output_type": "stream",
          "text": [
            "Such a shame that this song didnt reach 1B in 10 years.\n",
            "=============> HAM\n",
            "\n",
            "LIKE THIS COMMENT IF YOU ARE WATCHING.\n",
            "=============> SPAM\n",
            "\n"
          ],
          "name": "stdout"
        }
      ]
    }
  ]
}